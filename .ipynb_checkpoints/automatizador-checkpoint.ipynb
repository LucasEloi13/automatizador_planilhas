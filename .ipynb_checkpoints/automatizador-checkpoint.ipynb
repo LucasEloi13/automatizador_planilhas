{
 "cells": [
  {
   "cell_type": "code",
   "execution_count": 38,
   "id": "3f40900a-1ecf-49c5-bfef-581bcddb874c",
   "metadata": {},
   "outputs": [],
   "source": [
    "import pandas as pd\n",
    "import numpy as np\n",
    "from openpyxl import load_workbook"
   ]
  },
  {
   "cell_type": "code",
   "execution_count": 75,
   "id": "e9facb1e-ba80-4251-b5e0-f53724447270",
   "metadata": {},
   "outputs": [],
   "source": [
    "caminho_pai = \"planilhas/tabela_cliente.xlsx\""
   ]
  },
  {
   "cell_type": "code",
   "execution_count": 76,
   "id": "38bedc34-85cc-45ae-b985-e24188294e98",
   "metadata": {},
   "outputs": [],
   "source": [
    "df = pd.DataFrame(pd.read_excel(caminho_pai)) "
   ]
  },
  {
   "cell_type": "code",
   "execution_count": 77,
   "id": "fdc46410-263b-445b-93e4-eed76ba78d7a",
   "metadata": {
    "tags": []
   },
   "outputs": [],
   "source": [
    "cod = 25"
   ]
  },
  {
   "cell_type": "code",
   "execution_count": 84,
   "id": "80b3ac11-d073-4d72-bb97-05a3309a3bb9",
   "metadata": {
    "tags": []
   },
   "outputs": [
    {
     "data": {
      "text/plain": [
       "CÓDIGO                  object\n",
       "NOME                    object\n",
       "CPF                     object\n",
       "RG                      object\n",
       "CONTA CONTRATO          object\n",
       "ENDEREÇO                object\n",
       "CEP                     object\n",
       "MUNICÍPIO               object\n",
       "UF                      object\n",
       "RAMO DE ATIVIDADE       object\n",
       "Classe                  object\n",
       "TIPO DE LIGAÇÃO         object\n",
       "DISJUNTOR DE ENTRADA    object\n",
       "TIPO DE RAMAL           object\n",
       "X                       object\n",
       "Y                       object\n",
       "dtype: object"
      ]
     },
     "execution_count": 84,
     "metadata": {},
     "output_type": "execute_result"
    }
   ],
   "source": [
    "df.astype('object').dtypes"
   ]
  },
  {
   "cell_type": "code",
   "execution_count": 80,
   "id": "9cf12b70-b1b5-4d96-b27d-ab77bf046731",
   "metadata": {
    "tags": []
   },
   "outputs": [
    {
     "name": "stdout",
     "output_type": "stream",
     "text": [
      "<class 'pandas.core.frame.DataFrame'>\n",
      "RangeIndex: 2 entries, 0 to 1\n",
      "Data columns (total 16 columns):\n",
      " #   Column                Non-Null Count  Dtype  \n",
      "---  ------                --------------  -----  \n",
      " 0   CÓDIGO                2 non-null      int64  \n",
      " 1   NOME                  2 non-null      object \n",
      " 2   CPF                   2 non-null      int64  \n",
      " 3   RG                    2 non-null      int64  \n",
      " 4   CONTA CONTRATO        2 non-null      int64  \n",
      " 5   ENDEREÇO              2 non-null      object \n",
      " 6   CEP                   2 non-null      int64  \n",
      " 7   MUNICÍPIO             2 non-null      object \n",
      " 8   UF                    2 non-null      object \n",
      " 9   RAMO DE ATIVIDADE     2 non-null      object \n",
      " 10  Classe                2 non-null      object \n",
      " 11  TIPO DE LIGAÇÃO       2 non-null      object \n",
      " 12  DISJUNTOR DE ENTRADA  2 non-null      int64  \n",
      " 13  TIPO DE RAMAL         2 non-null      object \n",
      " 14  X                     2 non-null      float64\n",
      " 15  Y                     2 non-null      float64\n",
      "dtypes: float64(2), int64(6), object(8)\n",
      "memory usage: 384.0+ bytes\n"
     ]
    }
   ],
   "source": [
    "df.info()"
   ]
  },
  {
   "cell_type": "code",
   "execution_count": 43,
   "id": "06fc29ae-0dcd-4465-aeff-775a805a7e55",
   "metadata": {},
   "outputs": [],
   "source": [
    "df_filtrado = df[(df['CÓDIGO']==cod)]"
   ]
  },
  {
   "cell_type": "code",
   "execution_count": 44,
   "id": "999870a6-b695-4590-b6f8-614f2294941c",
   "metadata": {},
   "outputs": [],
   "source": [
    "dict1 = df_filtrado.to_dict(orient='index')[0]"
   ]
  },
  {
   "cell_type": "code",
   "execution_count": 69,
   "id": "1de864bb-ea98-4355-bb8d-a96f5c8ab2b5",
   "metadata": {},
   "outputs": [
    {
     "data": {
      "text/plain": [
       "{'CÓDIGO': 25,\n",
       " 'NOME': 'JOSYNELMA ROCHA SANTANA',\n",
       " 'CPF': '884.123.853-49',\n",
       " 'RG': 37369938,\n",
       " 'CONTA CONTRATO': 3013136814,\n",
       " 'ENDEREÇO': 'R. NOVA, 21, RES TUPINAMBA, TURU',\n",
       " 'CEP': 65066350,\n",
       " 'MUNICÍPIO': 'SÃO LUÍS',\n",
       " 'UF': 'MA',\n",
       " 'RAMO DE ATIVIDADE': 'RESIDENCIAL',\n",
       " 'Classe': 'RESIDENCIAL',\n",
       " 'TIPO DE LIGAÇÃO': 'MONOFÁSICO',\n",
       " 'DISJUNTOR DE ENTRADA': 40,\n",
       " 'TIPO DE RAMAL': 'AÉREO',\n",
       " 'X': -2.523146,\n",
       " 'Y': -44.223851}"
      ]
     },
     "execution_count": 69,
     "metadata": {},
     "output_type": "execute_result"
    }
   ],
   "source": [
    "dict1"
   ]
  },
  {
   "cell_type": "code",
   "execution_count": 72,
   "id": "cc0ce11c-b1b6-4bec-9274-d843e4a7440d",
   "metadata": {},
   "outputs": [
    {
     "data": {
      "text/plain": [
       "'R. NOVA, 21, RES TUPINAMBA'"
      ]
     },
     "execution_count": 72,
     "metadata": {},
     "output_type": "execute_result"
    }
   ],
   "source": [
    "','.join(dict1.get('ENDEREÇO').split(',')[0:-1])"
   ]
  },
  {
   "cell_type": "code",
   "execution_count": 46,
   "id": "f4d954a8-48f2-4e97-b060-013ce1fa7848",
   "metadata": {},
   "outputs": [],
   "source": [
    "wb_path = \"planilhas/relatorio_comissionamento.xlsx\"\n",
    "wb = load_workbook(wb_path)\n",
    "ws = wb.active"
   ]
  },
  {
   "cell_type": "code",
   "execution_count": 50,
   "id": "89934c0a-dabf-4f63-8bfa-0aa33f313faf",
   "metadata": {},
   "outputs": [],
   "source": [
    "ws['C6'] = dict1.get('NOME')\n",
    "ws['O6'] = dict1.get('CONTA CONTRATO')\n",
    "ws['C9'] = dict1.get('CEP')\n",
    "ws['F9'] = dict1.get('MUNICÍPIO')\n",
    "ws['C8'] = dict1.get('ENDEREÇO')"
   ]
  },
  {
   "cell_type": "code",
   "execution_count": 66,
   "id": "382fa161-6f16-40be-a867-b552d4fb9cf1",
   "metadata": {},
   "outputs": [],
   "source": [
    "primeiro_nome = dict1.get('NOME').split(' ')[0].lower()"
   ]
  },
  {
   "cell_type": "code",
   "execution_count": 67,
   "id": "4b31b5a3-381b-4997-a494-221510d5047a",
   "metadata": {},
   "outputs": [
    {
     "data": {
      "text/plain": [
       "'josynelma'"
      ]
     },
     "execution_count": 67,
     "metadata": {},
     "output_type": "execute_result"
    }
   ],
   "source": [
    "primeiro_nome"
   ]
  },
  {
   "cell_type": "code",
   "execution_count": 52,
   "id": "9e447173-bde4-4ecd-8baf-1ed1f7b1335f",
   "metadata": {
    "tags": []
   },
   "outputs": [],
   "source": [
    "wb.save(f'planilhas/RELATORIO_COMISSIONAMENTO_{primeiro_nome}.xlsx')"
   ]
  },
  {
   "cell_type": "code",
   "execution_count": 73,
   "id": "0b8494ba-3ca2-41a6-8543-2fe7c9eacbdd",
   "metadata": {},
   "outputs": [],
   "source": [
    "wb.close()"
   ]
  },
  {
   "cell_type": "code",
   "execution_count": 74,
   "id": "dcfda33c-cff2-47a5-beed-fac969698e01",
   "metadata": {},
   "outputs": [],
   "source": [
    "wb_path = \"planilhas/solicitacao_acesso.xlsx\"\n",
    "wb = load_workbook(wb_path)\n",
    "ws = wb.active"
   ]
  },
  {
   "cell_type": "code",
   "execution_count": 55,
   "id": "65cefab4-c2a2-4e34-a62d-4dd82c7c02f8",
   "metadata": {},
   "outputs": [],
   "source": [
    "ws['C10'] = dict1.get('NOME')\n",
    "ws['P27'] = dict1.get('DISJUNTOR DE ENTRADA')\n",
    "ws['F29'] = dict1.get('TIPO DE RAMAL')"
   ]
  },
  {
   "cell_type": "code",
   "execution_count": 56,
   "id": "659d6d30-b499-4cb6-a154-790170227fc8",
   "metadata": {},
   "outputs": [],
   "source": [
    "wb.save(f'planilhas/SOLICITACAO_ACESSO_{primeiro_nome}.xlsx')"
   ]
  },
  {
   "cell_type": "code",
   "execution_count": null,
   "id": "cc3c9923-eab6-4afa-a07b-ae8370c7cfda",
   "metadata": {},
   "outputs": [],
   "source": []
  }
 ],
 "metadata": {
  "kernelspec": {
   "display_name": "Python 3 (ipykernel)",
   "language": "python",
   "name": "python3"
  },
  "language_info": {
   "codemirror_mode": {
    "name": "ipython",
    "version": 3
   },
   "file_extension": ".py",
   "mimetype": "text/x-python",
   "name": "python",
   "nbconvert_exporter": "python",
   "pygments_lexer": "ipython3",
   "version": "3.9.12"
  }
 },
 "nbformat": 4,
 "nbformat_minor": 5
}
