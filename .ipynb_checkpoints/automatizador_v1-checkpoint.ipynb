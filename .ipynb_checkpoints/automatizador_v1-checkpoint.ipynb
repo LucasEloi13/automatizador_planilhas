{
 "cells": [
  {
   "cell_type": "markdown",
   "id": "32933ca4-c33d-4dc8-bd1f-b720fe8b126d",
   "metadata": {
    "tags": []
   },
   "source": [
    "# Automatizador de planilhas"
   ]
  },
  {
   "cell_type": "code",
   "execution_count": 2,
   "id": "23ddf20f-a46b-4fee-ac9d-2051de3a4123",
   "metadata": {
    "tags": []
   },
   "outputs": [],
   "source": [
    "import pandas as pd\n",
    "import numpy as np\n",
    "from openpyxl import Workbook, load_workbook"
   ]
  },
  {
   "cell_type": "code",
   "execution_count": 60,
   "id": "22c72367-95cd-4df1-807c-7478316b5645",
   "metadata": {},
   "outputs": [],
   "source": [
    "def cpf_formatado(cpf):\n",
    "    cpf_list = list(cpf)  \n",
    "    if len(cpf_list) < 11:\n",
    "        cpf = cpf.zfill(11)\n",
    "    cpf = '{}.{}.{}-{}'.format(cpf[:3], cpf[3:6], cpf[6:9], cpf[9:])\n",
    "    \n",
    "    return(cpf)"
   ]
  },
  {
   "cell_type": "code",
   "execution_count": null,
   "id": "f4a63c46-ad89-451b-bde7-caf89c730798",
   "metadata": {},
   "outputs": [],
   "source": []
  },
  {
   "cell_type": "code",
   "execution_count": 63,
   "id": "230fd109-379f-476f-af17-7f6096ba2340",
   "metadata": {},
   "outputs": [],
   "source": [
    "def info_cliente(cod, path=\"planilhas/tabela_cliente.xlsx\"):\n",
    "    \n",
    "    df = pd.DataFrame(pd.read_excel(path))\n",
    "    df = df.astype('object').dtypes\n",
    "    df_filtrado = df[(df['CÓDIGO']==cod)]\n",
    "    dict_infos = df_filtrado.to_dict(orient='index')[0]\n",
    "        \n",
    "    return (dict_infos)"
   ]
  },
  {
   "cell_type": "code",
   "execution_count": 37,
   "id": "27c73fce-d2bb-4bfb-ad40-7fb48c575319",
   "metadata": {},
   "outputs": [],
   "source": [
    "def comissionamento(infos, path=\"planilhas/relatorio_comissionamento.xlsx\"):\n",
    "    wb = load_workbook(path)\n",
    "    ws = wb.active\n",
    "    \n",
    "    ws['C6'] = infos.get('NOME')\n",
    "    ws['O6'] = infos.get('CONTA CONTRATO')\n",
    "    ws['C9'] = infos.get('CEP')\n",
    "    ws['F9'] = infos.get('MUNICÍPIO')\n",
    "    ws['C8'] = ','.join(infos.get('ENDEREÇO').split(',')[0:-1])\n",
    "    ws['N8'] = infos.get('ENDEREÇO').split(',')[-1].lstrip()    \n",
    "    \n",
    "    primeiro_nome = infos.get('NOME').split(' ')[0].lower()\n",
    "    wb.save(f'planilhas/relatorio_comissionamento_{primeiro_nome}.xlsx')\n",
    "    \n",
    "    wb.close()"
   ]
  },
  {
   "cell_type": "code",
   "execution_count": 1,
   "id": "38ea14dd-19fb-46f4-a04e-45f509f1f1e8",
   "metadata": {},
   "outputs": [
    {
     "ename": "IndentationError",
     "evalue": "unexpected indent (964130679.py, line 15)",
     "output_type": "error",
     "traceback": [
      "\u001b[1;36m  Input \u001b[1;32mIn [1]\u001b[1;36m\u001b[0m\n\u001b[1;33m    ws['P27'] = infos.get('DISJUNTOR DE ENTRADA')\u001b[0m\n\u001b[1;37m    ^\u001b[0m\n\u001b[1;31mIndentationError\u001b[0m\u001b[1;31m:\u001b[0m unexpected indent\n"
     ]
    }
   ],
   "source": [
    "def acesso(infos, path=\"planilhas/solicitacao_acesso.xlsx\"):\n",
    "    wb = load_workbook(path)\n",
    "    ws = wb.active\n",
    "    \n",
    "    ws['C10'] = infos.get('NOME')\n",
    "    ws['R10'] = cpf_formatado(infos.get('CPF'))\n",
    "    ws['AC9'] = infos.get('RG')\n",
    "    ws['C13'] = infos.get('ENDEREÇO')\n",
    "    ws['I15'] = infos.get('MUNICÍPIO')\n",
    "    ws['D15'] = infos.get('CEP')\n",
    "    ws['G21'] = infos.get('RAMO DE ATIVIDADE')\n",
    "    ws['F25'] = infos.get('CLASSE')\n",
    "    ws['T25'] = infos.get('TIPO DE LIGAÇÃO')\n",
    "    ws['P27'] = infos.get('DISJUNTOR DE ENTRADA')\n",
    "    ws['F29'] = infos.get('TIPO DE RAMAL')\n",
    "    ws['P31'] = infos.get('X')\n",
    "    ws['Y31'] = infos.get('Y')\n",
    "    "
   ]
  },
  {
   "cell_type": "code",
   "execution_count": 39,
   "id": "440baa2c-2764-4969-992c-a99f273e43cb",
   "metadata": {},
   "outputs": [],
   "source": [
    "def preencher_comissionamento(cod):\n",
    "    cod = cod\n",
    "    infos = info_cliente(cod)\n",
    "    \n",
    "    comissionamento(infos)"
   ]
  }
 ],
 "metadata": {
  "kernelspec": {
   "display_name": "Python 3 (ipykernel)",
   "language": "python",
   "name": "python3"
  },
  "language_info": {
   "codemirror_mode": {
    "name": "ipython",
    "version": 3
   },
   "file_extension": ".py",
   "mimetype": "text/x-python",
   "name": "python",
   "nbconvert_exporter": "python",
   "pygments_lexer": "ipython3",
   "version": "3.9.13"
  }
 },
 "nbformat": 4,
 "nbformat_minor": 5
}
