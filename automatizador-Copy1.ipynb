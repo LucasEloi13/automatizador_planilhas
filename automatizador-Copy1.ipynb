{
 "cells": [
  {
   "cell_type": "markdown",
   "id": "32933ca4-c33d-4dc8-bd1f-b720fe8b126d",
   "metadata": {
    "tags": []
   },
   "source": [
    "# Automatizador de planilhas"
   ]
  },
  {
   "cell_type": "code",
   "execution_count": 1,
   "id": "23ddf20f-a46b-4fee-ac9d-2051de3a4123",
   "metadata": {
    "tags": []
   },
   "outputs": [],
   "source": [
    "import os\n",
    "import shutil\n",
    "import pandas as pd\n",
    "import numpy as np\n",
    "from openpyxl import Workbook, load_workbook"
   ]
  },
  {
   "cell_type": "code",
   "execution_count": 2,
   "id": "22c72367-95cd-4df1-807c-7478316b5645",
   "metadata": {},
   "outputs": [],
   "source": [
    "def cpf_formatado(cpf):\n",
    "    cpf_list = list(cpf)  \n",
    "    if len(cpf_list) < 11:\n",
    "        cpf = cpf.zfill(11)\n",
    "    cpf = '{}.{}.{}-{}'.format(cpf[:3], cpf[3:6], cpf[6:9], cpf[9:])\n",
    "    \n",
    "    return(cpf)"
   ]
  },
  {
   "cell_type": "code",
   "execution_count": null,
   "id": "72ea0478-954e-46d8-8ef4-346c7024e0f1",
   "metadata": {},
   "outputs": [],
   "source": [
    "def arquivos(nome, fabricante_modulo, modulo_ref, fabricante_inversor, modelo_inversor):\n",
    "    os.makedirs(f\"arquivos - {nome}/\") \n",
    "    dst = f\"arquivos - {nome}/\" \n",
    "    \n",
    "    #---------------DATASHEET-PAINEL---------\n",
    "    src_datasheet_painel = f\"paineis/{fabricante_modulo}/datasheet/{modulo_ref}.pdf\"\n",
    "    shutil.copy2 (src_datasheet_painel, dst)\n",
    "    os.rename(f\"arquivos - {nome}/{modulo_ref}.pdf\", f\"arquivos - {nome}/DATASHEET MÓDULO.pdf\")\n",
    "    \n",
    "    \n",
    "    #---------------PRINT-PAINEL-------------\n",
    "    src_print_painel = f\"paineis/{fabricante_modulo}/prints/{modulo_ref}.png\"\n",
    "    shutil.copy2 (src_print_painel, dst)\n",
    "    \n",
    "    #---------------DATASHEET-INVERSOR---------\n",
    "    src_datasheet_inversor = f\"inversores/{fabricante_inversor}/datasheet/{modelo_inversor}.pdf\"\n",
    "    shutil.copy2 (src_datasheet_inversor, dst)\n",
    "    os.rename(f\"arquivos - {nome}/{modelo_inversor}.pdf\", f\"arquivos - {nome}/DATASHEET INVERSOR.pdf\")\n",
    "\n",
    "    \n",
    "    #---------------INMETRO-INVERSOR---------\n",
    "    src_inmetro_inversor = f\"inversores/{fabricante_inversor}/inmetro/{modelo_inversor}.pdf\"\n",
    "    shutil.copy2 (src_inmetro_inversor, dst)\n",
    "    os.rename(f\"arquivos - {nome}/{modelo_inversor}.pdf\", f\"arquivos - {nome}/INMETRO INVERSOR.pdf\")\n",
    "    \n",
    "    #---------------PRINT-INVERSOR---------\n",
    "    src_print_inversor = f\"inversores/{fabricante_inversor}/prints/{modelo_inversor}.png\"\n",
    "    shutil.copy2 (src_print_inversor, dst)\n",
    "    \n",
    "    \n",
    "    return(\"arquivos do inversor copiados\")"
   ]
  },
  {
   "cell_type": "code",
   "execution_count": 30,
   "id": "c3693440-1560-4b0e-af94-351ee0ea55cd",
   "metadata": {
    "tags": []
   },
   "outputs": [],
   "source": [
    "nome = 'TANIA REGINA CALDAS DE CASTRO'\n",
    "fabricante = 'SOLPLANET'\n",
    "modelo = 'ASW4000-S'\n",
    "\n",
    "arquivos(nome, fabricante, modelo)"
   ]
  },
  {
   "cell_type": "code",
   "execution_count": 4,
   "id": "c4e435ce-666b-4c9f-a8b1-e8b57937cf84",
   "metadata": {},
   "outputs": [],
   "source": [
    "def carga_declarada(disjuntor):\n",
    "    if disjuntor == 25:\n",
    "        CD = 5\n",
    "    elif disjuntor == 30 or disjuntor == 32:\n",
    "        CD = 6\n",
    "    elif disjuntor == 40:\n",
    "        CD = 8\n",
    "    elif disjuntor == 50:\n",
    "        CD = 10\n",
    "    elif disjuntor == 60 or disjuntor == 63:\n",
    "        CD = 12\n",
    "    \n",
    "    return(CD)"
   ]
  },
  {
   "cell_type": "code",
   "execution_count": 5,
   "id": "230fd109-379f-476f-af17-7f6096ba2340",
   "metadata": {},
   "outputs": [],
   "source": [
    "def info_cliente(cod, path=\"planilhas/tabela_cliente.xlsx\"):\n",
    "    \n",
    "    df = pd.DataFrame(pd.read_excel(path))\n",
    "    df = df.astype('object') \n",
    "    df_filtrado = df[(df['CÓDIGO']==cod)]\n",
    "    dict_infos = df_filtrado.to_dict(orient='index')\n",
    "    \n",
    "    ## Essa laço for é necessária devido a 'key' do dicionário gerado pela função\n",
    "    ## 'to_dict' ser um valor inteiro determinado pela posição da linha, logo \n",
    "    ## cada cliente terá uma 'key' diferente. \n",
    "    global i\n",
    "    \n",
    "    for i in dict_infos: \n",
    "        a = i\n",
    "    \n",
    "    dict_infos = dict_infos.get(i)\n",
    "    \n",
    "    for key in dict_infos:\n",
    "        if isinstance(dict_infos[key], str) == False:\n",
    "            dict_infos[key] = str(dict_infos[key])\n",
    "\n",
    "        dict_infos['CÓDIGO'] = int(dict_infos['CÓDIGO'])\n",
    "        dict_infos['DISJUNTOR DE ENTRADA'] = int(dict_infos['DISJUNTOR DE ENTRADA'])\n",
    "        dict_infos['QTD MOD'] = int(dict_infos['QTD MOD'])\n",
    "        \n",
    "    return (dict_infos)"
   ]
  },
  {
   "cell_type": "code",
   "execution_count": 6,
   "id": "2ad48cb0-256d-4a91-b66a-6a068da86ab6",
   "metadata": {},
   "outputs": [],
   "source": [
    "def modulo(modulo, path=\"planilhas/placas.xlsx\"):\n",
    "    df_m = pd.DataFrame(pd.read_excel(path))\n",
    "    df_modulo = df_m[df_m['NOME REF'] == modulo]\n",
    "    dict_modulo = df_modulo.to_dict(orient='index')\n",
    "    \n",
    "    for k in dict_modulo:\n",
    "        j = k\n",
    "        \n",
    "    \n",
    "    dict_modulo = dict_modulo.get(j)  \n",
    "    \n",
    "    return(dict_modulo)"
   ]
  },
  {
   "cell_type": "code",
   "execution_count": 7,
   "id": "5d78f066-312f-4ec7-bc75-2d25da03d4d8",
   "metadata": {},
   "outputs": [],
   "source": [
    "def inversor(inversor, path=\"planilhas/inversores.xlsx\"):\n",
    "    df_i = pd.DataFrame(pd.read_excel(path))\n",
    "    df_inversor = df_i[df_i['MODELO'] == inversor]\n",
    "    dict_inversor = df_inversor.to_dict(orient='index')\n",
    "    \n",
    "    \n",
    "    for l in dict_inversor:\n",
    "        m = l\n",
    "        \n",
    "    \n",
    "    dict_inversor = dict_inversor.get(m)  \n",
    "    \n",
    "    return(dict_inversor)"
   ]
  },
  {
   "cell_type": "code",
   "execution_count": 8,
   "id": "27c73fce-d2bb-4bfb-ad40-7fb48c575319",
   "metadata": {},
   "outputs": [],
   "source": [
    "def comissionamento(infos, path=\"planilhas/relatorio_comissionamento.xlsx\"):\n",
    "    wb = load_workbook(path)\n",
    "    ws = wb.active\n",
    "    \n",
    "    ws['C6'] = infos.get('NOME')\n",
    "    ws['O6'] = infos.get('CONTA CONTRATO')\n",
    "    ws['C9'] = infos.get('CEP')\n",
    "    ws['F9'] = infos.get('MUNICÍPIO')\n",
    "    ws['C8'] = ','.join(infos.get('ENDEREÇO').split(',')[0:-1])\n",
    "    ws['N8'] = infos.get('ENDEREÇO').split(',')[-1].lstrip()    \n",
    "    \n",
    "    primeiro_nome = infos.get('NOME').split(' ')[0].lower()\n",
    "    wb.save(f'arquivos - {primeiro_nome}/relatorio_comissionamento_{primeiro_nome}.xlsx')\n",
    "    \n",
    "    wb.close()"
   ]
  },
  {
   "cell_type": "code",
   "execution_count": 9,
   "id": "1d6a2f1d-e4c7-4ead-9299-f161fbc3695e",
   "metadata": {},
   "outputs": [],
   "source": [
    "def vistoria(infos, path=\"planilhas/Anexo-VI-Formulario-de-Solicitacao-de-Vistoria-de-Microgeracao-Distribuida.xlsx\"):\n",
    "    wb = load_workbook(path)\n",
    "    ws = wb.active\n",
    "    \n",
    "    ws['C12'] = infos.get('NOME')\n",
    "    ws['R12'] = cpf_formatado(infos.get('CPF'))\n",
    "    ws['AC11'] = infos.get('RG')\n",
    "    ws['C17'] = infos.get('ENDEREÇO')\n",
    "    ws['I17'] = infos.get('MUNICÍPIO')\n",
    "    ws['D17'] = infos.get('CEP')\n",
    "    ws['G19'] = infos.get('RAMO DE ATIVIDADE')\n",
    "    ws['X19'] = infos.get('CLASSE')\n",
    "    ws['O21'] = infos.get('TIPO DE LIGAÇÃO')\n",
    "    ws['H13'] = infos.get('DISJUNTOR DE ENTRADA')\n",
    "    ws['F21'] = infos.get('TIPO DE RAMAL')\n",
    "    ws['P25'] = infos.get('X')\n",
    "    ws['Y25'] = infos.get('Y')\n",
    "    ws['I43'] = infos.get('ENQUADRAMENTO')\n",
    "    ws['W9'] = infos.get('CONTA CONTRATO')\n",
    "    \n",
    "    primeiro_nome = infos.get('NOME').split(' ')[0].lower()\n",
    "    wb2 = load_workbook(f'arquivos - {primeiro_nome}/solicitacao_acesso_{primeiro_nome}.xlsx')\n",
    "    ws2 = wb2['1']\n",
    "    \n",
    "    ws['AC43'] = ws2['F54']\n",
    "    \n",
    "    wb.save(f'arquivos - {primeiro_nome}/SOLICITAÇÃO DE VISTORIA - {primeiro_nome.upper()}.xlsx')\n",
    "    wb.close()\n",
    "    "
   ]
  },
  {
   "cell_type": "code",
   "execution_count": 10,
   "id": "38ea14dd-19fb-46f4-a04e-45f509f1f1e8",
   "metadata": {},
   "outputs": [],
   "source": [
    "def acesso(infos, path=\"planilhas/solicitacao_acesso.xlsx\"):\n",
    "    wb = load_workbook(path)\n",
    "    ws0 = wb['0']\n",
    "    ws1 = wb['1']\n",
    "    \n",
    "    ws1['C10'] = infos.get('NOME')\n",
    "    ws1['R10'] = cpf_formatado(infos.get('CPF'))\n",
    "    ws1['AC9'] = infos.get('RG')\n",
    "    ws1['C13'] = infos.get('ENDEREÇO')\n",
    "    ws1['I15'] = infos.get('MUNICÍPIO')\n",
    "    ws1['D15'] = infos.get('CEP')\n",
    "    ws1['G21'] = infos.get('RAMO DE ATIVIDADE')\n",
    "    ws1['F25'] = infos.get('CLASSE')\n",
    "    ws1['T25'] = infos.get('TIPO DE LIGAÇÃO')\n",
    "    ws1['P27'] = infos.get('DISJUNTOR DE ENTRADA')\n",
    "    ws1['F29'] = infos.get('TIPO DE RAMAL')\n",
    "    ws1['P31'] = infos.get('X')\n",
    "    ws1['Y31'] = infos.get('Y')\n",
    "    ws1['I52'] = infos.get('ENQUADRAMENTO')\n",
    "    ws1['AB19'] = infos.get('CONTA CONTRATO')\n",
    "    ws1['F27'] = carga_declarada(infos.get('DISJUNTOR DE ENTRADA'))\n",
    "    \n",
    "    modulo_ref = infos.get('PAINEL') \n",
    "    infos_modulo = modulo(modulo_ref)\n",
    "    \n",
    "    inversor_ref = infos.get('INVERSOR')\n",
    "    infos_inversor = inversor(inversor_ref)\n",
    "    \n",
    "    ws0['D7'] = infos_modulo.get('POTÊNCIA (W)')\n",
    "    ws0['T7'] = infos_modulo.get('FABRICANTE')\n",
    "    ws0['AA7'] = infos_modulo.get('MODELO')\n",
    "    \n",
    "    num_placas = float(infos.get('QTD MOD'))\n",
    "    ws0['H7'] = num_placas\n",
    "    ws0['P7'] = num_placas * 2.3\n",
    "    \n",
    "    ws0['D22'] = infos_inversor.get('MARCA')\n",
    "    ws0['H22'] = infos_inversor.get('MODELO')\n",
    "    ws0['L22'] = infos_inversor.get('POTÊNCIA NOMINAL (kW)')\n",
    "    ws0['P22'] = infos_inversor.get('FAIXA DE TENSÃO (V)')\n",
    "    ws0['T22'] = infos_inversor.get('CORRENTE NOMINAL (A)')\n",
    "    ws0['W22'] = infos_inversor.get('FATOR DE POTÊNCIA')\n",
    "    ws0['Z22'] = infos_inversor.get('RENDIMENTO (%)')\n",
    "    ws0['AC22'] = infos_inversor.get('DHT')\n",
    "    \n",
    "    primeiro_nome = infos.get('NOME').split(' ')[0].lower()\n",
    "    arquivos(primeiro_nome, infos_modulo.get('FABRICANTE'), modulo_ref, infos_inversor.get('MARCA'), infos_inversor.get('MODELO'))\n",
    "        \n",
    "    wb.save(f'arquivos - {primeiro_nome}/solicitacao_acesso_{primeiro_nome}.xlsx')\n",
    "    wb.close()\n",
    "    "
   ]
  },
  {
   "cell_type": "code",
   "execution_count": 11,
   "id": "04184c85-3c78-4945-b775-8a67ecfb9577",
   "metadata": {},
   "outputs": [],
   "source": [
    "def inf_memorial(i, infos, path=\"planilhas/TABELA_CLIENTES_AUX.xlsx\"):\n",
    "    wb = load_workbook(path)\n",
    "    ws = wb.active\n",
    "    \n",
    "    s = i+2\n",
    "    \n",
    "    modulo_ref = infos.get('PAINEL') \n",
    "    infos_modulo = modulo(modulo_ref)\n",
    "    \n",
    "    inversor_ref = infos.get('INVERSOR')\n",
    "    infos_inversor = inversor(inversor_ref)\n",
    "    \n",
    "    disjuntor = infos.get('DISJUNTOR DE ENTRADA')\n",
    "    \n",
    "    \n",
    "    if infos.get('TIPO DE LIGAÇÃO') == 'MONOFÁSICO':\n",
    "        num_fases = 1\n",
    "        pot_nominal = 220\n",
    "        num_fios = 2   \n",
    "        fio = 10\n",
    "    \n",
    "    else:\n",
    "        num_fases = 3\n",
    "        pot_nominal = 360\n",
    "        num_fios = 2\n",
    "        \n",
    "        if disjuntor == 40:\n",
    "            fio = 10\n",
    "        \n",
    "        elif disjuntor == 60 or disjuntor == 63:\n",
    "            fio = 16\n",
    "        \n",
    "        elif disjuntor == 80:\n",
    "            fio = 25\n",
    "        \n",
    "        elif disjuntor == 100:\n",
    "            fio = 35\n",
    "            \n",
    "        elif disjuntor == 125:\n",
    "            fio = 50\n",
    "            \n",
    "            \n",
    "    ##cálculos \n",
    "    PD_kva = (pot_nominal * disjuntor * num_fases) / 1000\n",
    "    PD_kva = round(PD_kva, 2)\n",
    "    PD_kw = PD_kva * 0.92\n",
    "    PD_kw = round(PD_kw, 2)\n",
    "    POT_kwp = (infos_modulo.get('POTÊNCIA (W)') * infos.get('QTD MOD'))/1000\n",
    "    POT_kwp = round(POT_kwp, 2)\n",
    "               \n",
    "    ws[f'V{s}'] = POT_kwp\n",
    "    ws[f'W{s}'] = pot_nominal\n",
    "    ws[f'Z{s}'] = num_fios\n",
    "    ws[f'AA{s}'] = num_fases  \n",
    "    ws[f'X{s}'] = infos_modulo.get('POTÊNCIA (W)')\n",
    "    ws[f'Y{s}'] = infos_inversor.get('POTÊNCIA NOMINAL (kW)')\n",
    "    ws[f'AB{s}'] = infos_modulo.get('TIPO')\n",
    "    ws[f'AC{s}'] = infos_modulo.get('MODELO')\n",
    "    ws[f'AD{s}'] = PD_kva  \n",
    "    ws[f'AE{s}'] = PD_kw\n",
    "    ws[f'AF{s}'] = fio\n",
    "    ws[f'AG{s}'] = infos_inversor.get('DISJUNT')\n",
    "    \n",
    "    wb.save('planilhas/TABELA_CLIENTES_AUX.xlsx')\n",
    "    wb.close()"
   ]
  },
  {
   "cell_type": "raw",
   "id": "3204fdbc-15bc-4107-b57d-aa24c1530900",
   "metadata": {
    "jupyter": {
     "source_hidden": true
    },
    "tags": []
   },
   "source": [
    "def preencher_comissionamento(cod):\n",
    "    cod = cod\n",
    "    infos = info_cliente(cod)\n",
    "    \n",
    "    comissionamento(infos)"
   ]
  },
  {
   "cell_type": "code",
   "execution_count": 12,
   "id": "171a1729-de26-4118-9a4c-f2c172ff9b60",
   "metadata": {
    "tags": []
   },
   "outputs": [],
   "source": [
    "def preencher_acesso():\n",
    "    cod = int(input('Código do cliente: '))\n",
    "    num_placas = int(input('Quantidade de placas: '))\n",
    "    infos = info_cliente(cod)\n",
    "    \n",
    "    acesso(infos, num_placas)"
   ]
  },
  {
   "cell_type": "code",
   "execution_count": 13,
   "id": "84179397-a315-44d2-ac0e-5edb38be0f7a",
   "metadata": {},
   "outputs": [],
   "source": [
    "def main():\n",
    "    \n",
    "    cod = int(input('Código do cliente: '))\n",
    "    #num_placas = int(input('Quantidade de placas: '))\n",
    "    infos = info_cliente(cod)\n",
    "    \n",
    "    acesso(infos)\n",
    "    comissionamento(infos)\n",
    "    \n",
    "    inf_memorial(i, infos) \n",
    "    #vistoria(infos)"
   ]
  },
  {
   "cell_type": "code",
   "execution_count": 15,
   "id": "3dfc28a9-03b2-4389-ada5-1901fc34e334",
   "metadata": {},
   "outputs": [
    {
     "name": "stdin",
     "output_type": "stream",
     "text": [
      "Código do cliente:  70\n"
     ]
    }
   ],
   "source": [
    "main()"
   ]
  },
  {
   "cell_type": "code",
   "execution_count": null,
   "id": "0e075fc0-10c9-4f12-9e8c-979ed2ef5878",
   "metadata": {},
   "outputs": [],
   "source": []
  }
 ],
 "metadata": {
  "kernelspec": {
   "display_name": "Python 3 (ipykernel)",
   "language": "python",
   "name": "python3"
  },
  "language_info": {
   "codemirror_mode": {
    "name": "ipython",
    "version": 3
   },
   "file_extension": ".py",
   "mimetype": "text/x-python",
   "name": "python",
   "nbconvert_exporter": "python",
   "pygments_lexer": "ipython3",
   "version": "3.9.13"
  }
 },
 "nbformat": 4,
 "nbformat_minor": 5
}
