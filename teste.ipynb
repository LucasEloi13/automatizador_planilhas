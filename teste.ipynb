{
 "cells": [
  {
   "cell_type": "code",
   "execution_count": 1,
   "id": "edb93ac6-bd98-42c3-83e6-9f9dbf134ecd",
   "metadata": {},
   "outputs": [],
   "source": [
    "import pandas as pd\n",
    "import numpy as np\n",
    "from openpyxl import load_workbook"
   ]
  },
  {
   "cell_type": "code",
   "execution_count": 4,
   "id": "bcd241a1-254d-4c1f-966e-8de324c4cb7f",
   "metadata": {},
   "outputs": [],
   "source": [
    "path=\"planilhas/TEST1.xlsx\""
   ]
  },
  {
   "cell_type": "code",
   "execution_count": 5,
   "id": "a7a65c5e-c02e-4780-87ef-e9ad0de5b471",
   "metadata": {},
   "outputs": [],
   "source": [
    "wb = load_workbook(path)"
   ]
  },
  {
   "cell_type": "code",
   "execution_count": 14,
   "id": "993f9dd3-1b8a-406e-a88a-3ef52b6dcfa9",
   "metadata": {},
   "outputs": [],
   "source": [
    "ws = wb.active \n",
    "#sheet2 = wb['1'].active"
   ]
  },
  {
   "cell_type": "code",
   "execution_count": 11,
   "id": "d367ad15-6f72-484d-9313-1817f3a83633",
   "metadata": {},
   "outputs": [
    {
     "name": "stdout",
     "output_type": "stream",
     "text": [
      "['0', '1']\n"
     ]
    }
   ],
   "source": [
    "print(wb.sheetnames)"
   ]
  },
  {
   "cell_type": "code",
   "execution_count": 22,
   "id": "46ac49dc-5899-47d6-baa6-8dedd0ca6948",
   "metadata": {},
   "outputs": [],
   "source": [
    "ws0 = wb['0']\n",
    "ws1 = wb['1']"
   ]
  },
  {
   "cell_type": "code",
   "execution_count": 23,
   "id": "f08a6758-e592-430e-a7a6-099e0a430cd0",
   "metadata": {},
   "outputs": [],
   "source": [
    "ws0['A1'] = 'oi'\n",
    "ws1['A1'] = 'turubem'"
   ]
  },
  {
   "cell_type": "code",
   "execution_count": 24,
   "id": "151cc98b-e915-44e2-8b6f-418a5c5c08e1",
   "metadata": {},
   "outputs": [],
   "source": [
    "wb.save(f'planilhas/aaaaaaaaaaaaaaaaaa.xlsx')"
   ]
  },
  {
   "cell_type": "code",
   "execution_count": null,
   "id": "d1fb5f1e-d99a-4567-bd82-3737c11e856b",
   "metadata": {},
   "outputs": [],
   "source": []
  }
 ],
 "metadata": {
  "kernelspec": {
   "display_name": "Python 3 (ipykernel)",
   "language": "python",
   "name": "python3"
  },
  "language_info": {
   "codemirror_mode": {
    "name": "ipython",
    "version": 3
   },
   "file_extension": ".py",
   "mimetype": "text/x-python",
   "name": "python",
   "nbconvert_exporter": "python",
   "pygments_lexer": "ipython3",
   "version": "3.9.13"
  }
 },
 "nbformat": 4,
 "nbformat_minor": 5
}
