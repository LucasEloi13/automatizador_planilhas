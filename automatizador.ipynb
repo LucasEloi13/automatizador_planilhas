{
 "cells": [
  {
   "cell_type": "markdown",
   "id": "32933ca4-c33d-4dc8-bd1f-b720fe8b126d",
   "metadata": {
    "tags": []
   },
   "source": [
    "# Automatizador de planilhas"
   ]
  },
  {
   "cell_type": "code",
   "execution_count": 11,
   "id": "23ddf20f-a46b-4fee-ac9d-2051de3a4123",
   "metadata": {
    "tags": []
   },
   "outputs": [],
   "source": [
    "import os\n",
    "import shutil\n",
    "import pandas as pd\n",
    "import numpy as np\n",
    "from openpyxl import Workbook, load_workbook"
   ]
  },
  {
   "cell_type": "code",
   "execution_count": 2,
   "id": "22c72367-95cd-4df1-807c-7478316b5645",
   "metadata": {},
   "outputs": [],
   "source": [
    "def cpf_formatado(cpf):\n",
    "    cpf_list = list(cpf)  \n",
    "    if len(cpf_list) < 11:\n",
    "        cpf = cpf.zfill(11)\n",
    "    cpf = '{}.{}.{}-{}'.format(cpf[:3], cpf[3:6], cpf[6:9], cpf[9:])\n",
    "    \n",
    "    return(cpf)"
   ]
  },
  {
   "cell_type": "code",
   "execution_count": 59,
   "id": "97ced04f-b923-4a66-b8db-3dd83f7f811f",
   "metadata": {},
   "outputs": [],
   "source": [
    "def arquivos(nome, fabricante_modulo, modulo_ref, fabricante_inversor, modelo_inversor):\n",
    "    os.makedirs(f\"arquivos - {nome}/\") \n",
    "    dst = f\"arquivos - {nome}/\" \n",
    "    \n",
    "    #---------------DATASHEET-PAINEL---------\n",
    "    src_datasheet_painel = f\"paineis/{fabricante_modulo}/datasheet/{modulo_ref}.pdf\"\n",
    "    shutil.copy2 (src_datasheet_painel, dst)\n",
    "    os.rename(f\"arquivos - {nome}/{modulo_ref}.pdf\", f\"arquivos - {nome}/DATASHEET MÓDULO.pdf\")\n",
    "    \n",
    "    \n",
    "    #---------------PRINT-PAINEL-------------\n",
    "    src_print_painel = f\"paineis/{fabricante_modulo}/prints/{modulo_ref}.png\"\n",
    "    shutil.copy2 (src_print_painel, dst)\n",
    "    \n",
    "    #---------------DATASHEET-INVERSOR---------\n",
    "    src_datasheet_inversor = f\"inversores/{fabricante_inversor}/datasheet/{modelo_inversor}.pdf\"\n",
    "    shutil.copy2 (src_datasheet_inversor, dst)\n",
    "    os.rename(f\"arquivos - {nome}/{modelo_inversor}.pdf\", f\"arquivos - {nome}/DATASHEET INVERSOR.pdf\")\n",
    "\n",
    "    \n",
    "    #---------------INMETRO-INVERSOR---------\n",
    "    src_inmetro_inversor = f\"inversores/{fabricante_inversor}/inmetro/{modelo_inversor}.pdf\"\n",
    "    shutil.copy2 (src_inmetro_inversor, dst)\n",
    "    os.rename(f\"arquivos - {nome}/{modelo_inversor}.pdf\", f\"arquivos - {nome}/INMETRO INVERSOR.pdf\")\n",
    "    \n",
    "    #---------------PRINT-INVERSOR---------\n",
    "    src_print_inversor = f\"inversores/{fabricante_inversor}/prints/{modelo_inversor}.png\"\n",
    "    shutil.copy2 (src_print_inversor, dst)\n",
    "    \n",
    "    \n",
    "    return(\"arquivos do inversor copiados\")"
   ]
  },
  {
   "cell_type": "code",
   "execution_count": 3,
   "id": "c4e435ce-666b-4c9f-a8b1-e8b57937cf84",
   "metadata": {},
   "outputs": [],
   "source": [
    "def carga_declarada(disjuntor):\n",
    "    if disjuntor == 25:\n",
    "        CD = 5\n",
    "    elif disjuntor == 30 or disjuntor == 32:\n",
    "        CD = 6\n",
    "    elif disjuntor == 40:\n",
    "        CD = 8\n",
    "    elif disjuntor == 50:\n",
    "        CD = 10\n",
    "    elif disjuntor == 60 or disjuntor == 63:\n",
    "        CD = 12\n",
    "    \n",
    "    return(CD)"
   ]
  },
  {
   "cell_type": "code",
   "execution_count": 4,
   "id": "230fd109-379f-476f-af17-7f6096ba2340",
   "metadata": {},
   "outputs": [],
   "source": [
    "def info_cliente(cod, path=\"planilhas/tabela_cliente.xlsx\"):\n",
    "    \n",
    "    df = pd.DataFrame(pd.read_excel(path))\n",
    "    df = df.astype('object') \n",
    "    df_filtrado = df[(df['CÓDIGO']==cod)]\n",
    "    dict_infos = df_filtrado.to_dict(orient='index')\n",
    "    \n",
    "    ## Essa laço for é necessária devido a 'key' do dicionário gerado pela função\n",
    "    ## 'to_dict' ser um valor inteiro determinado pela posição da linha, logo \n",
    "    ## cada cliente terá uma 'key' diferente.\n",
    "    for i in dict_infos: \n",
    "        a = i\n",
    "    \n",
    "    dict_infos = dict_infos.get(i)\n",
    "    \n",
    "    for key in dict_infos:\n",
    "        if isinstance(dict_infos[key], str) == False:\n",
    "            dict_infos[key] = str(dict_infos[key])\n",
    "\n",
    "        dict_infos['CÓDIGO'] = int(dict_infos['CÓDIGO'])\n",
    "        dict_infos['DISJUNTOR DE ENTRADA'] = int(dict_infos['DISJUNTOR DE ENTRADA'])\n",
    "        \n",
    "    return (dict_infos)"
   ]
  },
  {
   "cell_type": "code",
   "execution_count": 5,
   "id": "2ad48cb0-256d-4a91-b66a-6a068da86ab6",
   "metadata": {},
   "outputs": [],
   "source": [
    "def modulo(modulo, path=\"planilhas/placas.xlsx\"):\n",
    "    df_m = pd.DataFrame(pd.read_excel(path))\n",
    "    df_modulo = df_m[df_m['NOME REF'] == modulo]\n",
    "    dict_modulo = df_modulo.to_dict(orient='index')\n",
    "    \n",
    "    for k in dict_modulo:\n",
    "        j = k\n",
    "        \n",
    "    \n",
    "    dict_modulo = dict_modulo.get(j)  \n",
    "    \n",
    "    return(dict_modulo)"
   ]
  },
  {
   "cell_type": "code",
   "execution_count": 6,
   "id": "5d78f066-312f-4ec7-bc75-2d25da03d4d8",
   "metadata": {},
   "outputs": [],
   "source": [
    "def inversor(inversor, path=\"planilhas/inversores.xlsx\"):\n",
    "    df_i = pd.DataFrame(pd.read_excel(path))\n",
    "    df_inversor = df_i[df_i['MODELO'] == inversor]\n",
    "    dict_inversor = df_inversor.to_dict(orient='index')\n",
    "    \n",
    "    for l in dict_inversor:\n",
    "        m = l\n",
    "        \n",
    "    \n",
    "    dict_inversor = dict_inversor.get(m)  \n",
    "    \n",
    "    return(dict_inversor)"
   ]
  },
  {
   "cell_type": "code",
   "execution_count": 68,
   "id": "27c73fce-d2bb-4bfb-ad40-7fb48c575319",
   "metadata": {},
   "outputs": [],
   "source": [
    "def comissionamento(infos, path=\"planilhas/relatorio_comissionamento.xlsx\"):\n",
    "    wb = load_workbook(path)\n",
    "    ws = wb.active\n",
    "    \n",
    "    ws['C6'] = infos.get('NOME')\n",
    "    ws['O6'] = infos.get('CONTA CONTRATO')\n",
    "    ws['C9'] = infos.get('CEP')\n",
    "    ws['F9'] = infos.get('MUNICÍPIO')\n",
    "    ws['C8'] = ','.join(infos.get('ENDEREÇO').split(',')[0:-1])\n",
    "    ws['N8'] = infos.get('ENDEREÇO').split(',')[-1].lstrip()    \n",
    "    \n",
    "    primeiro_nome = infos.get('NOME').split(' ')[0].lower()\n",
    "    wb.save(f'arquivos - {primeiro_nome}/relatorio_comissionamento_{primeiro_nome}.xlsx')\n",
    "    \n",
    "    wb.close()"
   ]
  },
  {
   "cell_type": "code",
   "execution_count": 74,
   "id": "1d6a2f1d-e4c7-4ead-9299-f161fbc3695e",
   "metadata": {},
   "outputs": [],
   "source": [
    "def vistoria(infos, path=\"planilhas/solicitacao_vistoria.xlsx\"):\n",
    "    wb = load_workbook(path)\n",
    "    ws = wb.active\n",
    "    \n",
    "    ws['C12'] = infos.get('NOME')\n",
    "    ws['R12'] = cpf_formatado(infos.get('CPF'))\n",
    "    ws['AC11'] = infos.get('RG')\n",
    "    ws['C17'] = infos.get('ENDEREÇO')\n",
    "    ws['I17'] = infos.get('MUNICÍPIO')\n",
    "    ws['D17'] = infos.get('CEP')\n",
    "    ws['G19'] = infos.get('RAMO DE ATIVIDADE')\n",
    "    ws['X19'] = infos.get('CLASSE')\n",
    "    ws['O21'] = infos.get('TIPO DE LIGAÇÃO')\n",
    "    ws['H13'] = infos.get('DISJUNTOR DE ENTRADA')\n",
    "    ws['F21'] = infos.get('TIPO DE RAMAL')\n",
    "    ws['P25'] = infos.get('X')\n",
    "    ws['Y25'] = infos.get('Y')\n",
    "    ws['I43'] = infos.get('ENQUADRAMENTO')\n",
    "    ws['W9'] = infos.get('CONTA CONTRATO')\n",
    "    '''\n",
    "    primeiro_nome = infos.get('NOME').split(' ')[0].lower()\n",
    "    wb2 = load_workbook(f'arquivos - {primeiro_nome}/solicitacao_acesso_{primeiro_nome}.xlsx')\n",
    "    ws2 = wb2['1']\n",
    "    \n",
    "    ws['AC43'] = ws2['F54']\n",
    "    \n",
    "    wb.save(f'arquivos - {primeiro_nome}/SOLICITAÇÃO DE VISTORIA - {primeiro_nome.upper()}.xlsx')\n",
    "    wb.close()\n",
    "    '''"
   ]
  },
  {
   "cell_type": "code",
   "execution_count": 54,
   "id": "38ea14dd-19fb-46f4-a04e-45f509f1f1e8",
   "metadata": {},
   "outputs": [],
   "source": [
    "def acesso(infos, num_placas, path=\"planilhas/solicitacao_acesso.xlsx\"):\n",
    "    wb = load_workbook(path)\n",
    "    ws0 = wb['0']\n",
    "    ws1 = wb['1']\n",
    "    \n",
    "    ws1['C10'] = infos.get('NOME')\n",
    "    ws1['R10'] = cpf_formatado(infos.get('CPF'))\n",
    "    ws1['AC9'] = infos.get('RG')\n",
    "    ws1['C13'] = infos.get('ENDEREÇO')\n",
    "    ws1['I15'] = infos.get('MUNICÍPIO')\n",
    "    ws1['D15'] = infos.get('CEP')\n",
    "    ws1['G21'] = infos.get('RAMO DE ATIVIDADE')\n",
    "    ws1['F25'] = infos.get('CLASSE')\n",
    "    ws1['T25'] = infos.get('TIPO DE LIGAÇÃO')\n",
    "    ws1['P27'] = infos.get('DISJUNTOR DE ENTRADA')\n",
    "    ws1['F29'] = infos.get('TIPO DE RAMAL')\n",
    "    ws1['P31'] = infos.get('X')\n",
    "    ws1['Y31'] = infos.get('Y')\n",
    "    ws1['I52'] = infos.get('ENQUADRAMENTO')\n",
    "    ws1['AB19'] = infos.get('CONTA CONTRATO')\n",
    "    ws1['F27'] = carga_declarada(infos.get('DISJUNTOR DE ENTRADA'))\n",
    "    \n",
    "    modulo_ref = infos.get('PAINEL') \n",
    "    infos_modulo = modulo(modulo_ref)\n",
    "    \n",
    "    inversor_ref = infos.get('INVERSOR')\n",
    "    infos_inversor = inversor(inversor_ref)\n",
    "    \n",
    "    ws0['D7'] = infos_modulo.get('POTÊNCIA (W)')\n",
    "    ws0['T7'] = infos_modulo.get('FABRICANTE')\n",
    "    ws0['AA7'] = infos_modulo.get('MODELO')\n",
    "    ws0['H7'] = num_placas\n",
    "    ws0['P7'] = num_placas * 2.3\n",
    "    \n",
    "    ws0['D22'] = infos_inversor.get('MARCA')\n",
    "    ws0['H22'] = infos_inversor.get('MODELO')\n",
    "    ws0['L22'] = infos_inversor.get('POTÊNCIA NOMINAL (kW)')\n",
    "    ws0['P22'] = infos_inversor.get('FAIXA DE TENSÃO (V)')\n",
    "    ws0['T22'] = infos_inversor.get('CORRENTE NOMINAL (A)')\n",
    "    ws0['W22'] = infos_inversor.get('FATOR DE POTÊNCIA')\n",
    "    ws0['Z22'] = infos_inversor.get('RENDIMENTO (%)')\n",
    "    ws0['AC22'] = infos_inversor.get('DHT')\n",
    "    \n",
    "    primeiro_nome = infos.get('NOME').split(' ')[0].lower()\n",
    "    arquivos(primeiro_nome, infos_modulo.get('FABRICANTE'), modulo_ref, infos_inversor.get('MARCA'), infos_inversor.get('MODELO'))\n",
    "        \n",
    "    wb.save(f'arquivos - {primeiro_nome}/solicitacao_acesso_{primeiro_nome}.xlsx')\n",
    "    wb.close()\n",
    "    "
   ]
  },
  {
   "cell_type": "raw",
   "id": "3204fdbc-15bc-4107-b57d-aa24c1530900",
   "metadata": {
    "jupyter": {
     "source_hidden": true
    },
    "tags": []
   },
   "source": [
    "def preencher_comissionamento(cod):\n",
    "    cod = cod\n",
    "    infos = info_cliente(cod)\n",
    "    \n",
    "    comissionamento(infos)"
   ]
  },
  {
   "cell_type": "code",
   "execution_count": null,
   "id": "171a1729-de26-4118-9a4c-f2c172ff9b60",
   "metadata": {
    "tags": []
   },
   "outputs": [],
   "source": [
    "def preencher_acesso():\n",
    "    cod = int(input('Código do cliente: '))\n",
    "    num_placas = int(input('Quantidade de placas: '))\n",
    "    infos = info_cliente(cod)\n",
    "    \n",
    "    acesso(infos, num_placas)"
   ]
  },
  {
   "cell_type": "code",
   "execution_count": 72,
   "id": "84179397-a315-44d2-ac0e-5edb38be0f7a",
   "metadata": {},
   "outputs": [],
   "source": [
    "def main():\n",
    "    cod = int(input('Código do cliente: '))\n",
    "    num_placas = int(input('Quantidade de placas: '))\n",
    "    infos = info_cliente(cod)\n",
    "    \n",
    "    acesso(infos, num_placas)\n",
    "    comissionamento(infos)\n",
    "    vistoria(infos)"
   ]
  },
  {
   "cell_type": "code",
   "execution_count": 75,
   "id": "3dfc28a9-03b2-4389-ada5-1901fc34e334",
   "metadata": {},
   "outputs": [
    {
     "name": "stdin",
     "output_type": "stream",
     "text": [
      "Código do cliente:  69\n",
      "Quantidade de placas:  10\n"
     ]
    },
    {
     "name": "stderr",
     "output_type": "stream",
     "text": [
      "C:\\Users\\User\\anaconda3\\envs\\qr_energia\\lib\\site-packages\\openpyxl\\reader\\workbook.py:88: UserWarning: File contains an invalid specification for Solicitação de Vistoria. This will be removed\n",
      "  warn(msg)\n"
     ]
    },
    {
     "ename": "IndexError",
     "evalue": "list index out of range",
     "output_type": "error",
     "traceback": [
      "\u001b[1;31m---------------------------------------------------------------------------\u001b[0m",
      "\u001b[1;31mIndexError\u001b[0m                                Traceback (most recent call last)",
      "Input \u001b[1;32mIn [75]\u001b[0m, in \u001b[0;36m<cell line: 1>\u001b[1;34m()\u001b[0m\n\u001b[1;32m----> 1\u001b[0m \u001b[43mmain\u001b[49m\u001b[43m(\u001b[49m\u001b[43m)\u001b[49m\n",
      "Input \u001b[1;32mIn [72]\u001b[0m, in \u001b[0;36mmain\u001b[1;34m()\u001b[0m\n\u001b[0;32m      6\u001b[0m acesso(infos, num_placas)\n\u001b[0;32m      7\u001b[0m comissionamento(infos)\n\u001b[1;32m----> 8\u001b[0m \u001b[43mvistoria\u001b[49m\u001b[43m(\u001b[49m\u001b[43minfos\u001b[49m\u001b[43m)\u001b[49m\n",
      "Input \u001b[1;32mIn [74]\u001b[0m, in \u001b[0;36mvistoria\u001b[1;34m(infos, path)\u001b[0m\n\u001b[0;32m      1\u001b[0m \u001b[38;5;28;01mdef\u001b[39;00m \u001b[38;5;21mvistoria\u001b[39m(infos, path\u001b[38;5;241m=\u001b[39m\u001b[38;5;124m\"\u001b[39m\u001b[38;5;124mplanilhas/solicitacao_vistoria.xlsx\u001b[39m\u001b[38;5;124m\"\u001b[39m):\n\u001b[1;32m----> 2\u001b[0m     wb \u001b[38;5;241m=\u001b[39m \u001b[43mload_workbook\u001b[49m\u001b[43m(\u001b[49m\u001b[43mpath\u001b[49m\u001b[43m)\u001b[49m\n\u001b[0;32m      3\u001b[0m     ws \u001b[38;5;241m=\u001b[39m wb\u001b[38;5;241m.\u001b[39mactive\n\u001b[0;32m      5\u001b[0m     ws[\u001b[38;5;124m'\u001b[39m\u001b[38;5;124mC12\u001b[39m\u001b[38;5;124m'\u001b[39m] \u001b[38;5;241m=\u001b[39m infos\u001b[38;5;241m.\u001b[39mget(\u001b[38;5;124m'\u001b[39m\u001b[38;5;124mNOME\u001b[39m\u001b[38;5;124m'\u001b[39m)\n",
      "File \u001b[1;32m~\\anaconda3\\envs\\qr_energia\\lib\\site-packages\\openpyxl\\reader\\excel.py:317\u001b[0m, in \u001b[0;36mload_workbook\u001b[1;34m(filename, read_only, keep_vba, data_only, keep_links)\u001b[0m\n\u001b[0;32m    290\u001b[0m \u001b[38;5;124;03m\"\"\"Open the given filename and return the workbook\u001b[39;00m\n\u001b[0;32m    291\u001b[0m \n\u001b[0;32m    292\u001b[0m \u001b[38;5;124;03m:param filename: the path to open or a file-like object\u001b[39;00m\n\u001b[1;32m   (...)\u001b[0m\n\u001b[0;32m    313\u001b[0m \n\u001b[0;32m    314\u001b[0m \u001b[38;5;124;03m\"\"\"\u001b[39;00m\n\u001b[0;32m    315\u001b[0m reader \u001b[38;5;241m=\u001b[39m ExcelReader(filename, read_only, keep_vba,\n\u001b[0;32m    316\u001b[0m                     data_only, keep_links)\n\u001b[1;32m--> 317\u001b[0m \u001b[43mreader\u001b[49m\u001b[38;5;241;43m.\u001b[39;49m\u001b[43mread\u001b[49m\u001b[43m(\u001b[49m\u001b[43m)\u001b[49m\n\u001b[0;32m    318\u001b[0m \u001b[38;5;28;01mreturn\u001b[39;00m reader\u001b[38;5;241m.\u001b[39mwb\n",
      "File \u001b[1;32m~\\anaconda3\\envs\\qr_energia\\lib\\site-packages\\openpyxl\\reader\\excel.py:283\u001b[0m, in \u001b[0;36mExcelReader.read\u001b[1;34m(self)\u001b[0m\n\u001b[0;32m    281\u001b[0m apply_stylesheet(\u001b[38;5;28mself\u001b[39m\u001b[38;5;241m.\u001b[39marchive, \u001b[38;5;28mself\u001b[39m\u001b[38;5;241m.\u001b[39mwb)\n\u001b[0;32m    282\u001b[0m \u001b[38;5;28mself\u001b[39m\u001b[38;5;241m.\u001b[39mread_worksheets()\n\u001b[1;32m--> 283\u001b[0m \u001b[38;5;28;43mself\u001b[39;49m\u001b[38;5;241;43m.\u001b[39;49m\u001b[43mparser\u001b[49m\u001b[38;5;241;43m.\u001b[39;49m\u001b[43massign_names\u001b[49m\u001b[43m(\u001b[49m\u001b[43m)\u001b[49m\n\u001b[0;32m    284\u001b[0m \u001b[38;5;28;01mif\u001b[39;00m \u001b[38;5;129;01mnot\u001b[39;00m \u001b[38;5;28mself\u001b[39m\u001b[38;5;241m.\u001b[39mread_only:\n\u001b[0;32m    285\u001b[0m     \u001b[38;5;28mself\u001b[39m\u001b[38;5;241m.\u001b[39marchive\u001b[38;5;241m.\u001b[39mclose()\n",
      "File \u001b[1;32m~\\anaconda3\\envs\\qr_energia\\lib\\site-packages\\openpyxl\\reader\\workbook.py:102\u001b[0m, in \u001b[0;36mWorkbookParser.assign_names\u001b[1;34m(self)\u001b[0m\n\u001b[0;32m    100\u001b[0m reserved \u001b[38;5;241m=\u001b[39m defn\u001b[38;5;241m.\u001b[39mis_reserved\n\u001b[0;32m    101\u001b[0m \u001b[38;5;28;01mif\u001b[39;00m reserved \u001b[38;5;129;01min\u001b[39;00m (\u001b[38;5;124m\"\u001b[39m\u001b[38;5;124mPrint_Titles\u001b[39m\u001b[38;5;124m\"\u001b[39m, \u001b[38;5;124m\"\u001b[39m\u001b[38;5;124mPrint_Area\u001b[39m\u001b[38;5;124m\"\u001b[39m):\n\u001b[1;32m--> 102\u001b[0m     sheet \u001b[38;5;241m=\u001b[39m \u001b[38;5;28;43mself\u001b[39;49m\u001b[38;5;241;43m.\u001b[39;49m\u001b[43mwb\u001b[49m\u001b[38;5;241;43m.\u001b[39;49m\u001b[43m_sheets\u001b[49m\u001b[43m[\u001b[49m\u001b[43mdefn\u001b[49m\u001b[38;5;241;43m.\u001b[39;49m\u001b[43mlocalSheetId\u001b[49m\u001b[43m]\u001b[49m\n\u001b[0;32m    103\u001b[0m     \u001b[38;5;28;01mif\u001b[39;00m reserved \u001b[38;5;241m==\u001b[39m \u001b[38;5;124m\"\u001b[39m\u001b[38;5;124mPrint_Titles\u001b[39m\u001b[38;5;124m\"\u001b[39m:\n\u001b[0;32m    104\u001b[0m         rows, cols \u001b[38;5;241m=\u001b[39m _unpack_print_titles(defn)\n",
      "\u001b[1;31mIndexError\u001b[0m: list index out of range"
     ]
    }
   ],
   "source": [
    "main()"
   ]
  },
  {
   "cell_type": "code",
   "execution_count": null,
   "id": "0e075fc0-10c9-4f12-9e8c-979ed2ef5878",
   "metadata": {},
   "outputs": [],
   "source": []
  }
 ],
 "metadata": {
  "kernelspec": {
   "display_name": "Python 3 (ipykernel)",
   "language": "python",
   "name": "python3"
  },
  "language_info": {
   "codemirror_mode": {
    "name": "ipython",
    "version": 3
   },
   "file_extension": ".py",
   "mimetype": "text/x-python",
   "name": "python",
   "nbconvert_exporter": "python",
   "pygments_lexer": "ipython3",
   "version": "3.9.13"
  }
 },
 "nbformat": 4,
 "nbformat_minor": 5
}
