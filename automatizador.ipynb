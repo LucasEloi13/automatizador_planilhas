{
 "cells": [
  {
   "cell_type": "code",
   "execution_count": 1,
   "id": "3f40900a-1ecf-49c5-bfef-581bcddb874c",
   "metadata": {},
   "outputs": [],
   "source": [
    "import pandas as pd\n",
    "import numpy as np\n",
    "from openpyxl import load_workbook"
   ]
  },
  {
   "cell_type": "code",
   "execution_count": 107,
   "id": "e9facb1e-ba80-4251-b5e0-f53724447270",
   "metadata": {},
   "outputs": [],
   "source": [
    "caminho_pai = \"planilhas/tabela_cliente.xlsx\""
   ]
  },
  {
   "cell_type": "code",
   "execution_count": 108,
   "id": "38bedc34-85cc-45ae-b985-e24188294e98",
   "metadata": {},
   "outputs": [],
   "source": [
    "df = pd.DataFrame(pd.read_excel(caminho_pai)) "
   ]
  },
  {
   "cell_type": "code",
   "execution_count": 109,
   "id": "fdc46410-263b-445b-93e4-eed76ba78d7a",
   "metadata": {
    "tags": []
   },
   "outputs": [],
   "source": [
    "cod = 25"
   ]
  },
  {
   "cell_type": "code",
   "execution_count": 110,
   "id": "b85e982a-25f8-4f3a-9026-e7fbcd5c9c88",
   "metadata": {},
   "outputs": [],
   "source": [
    "df = df.astype('object')\n",
    "\n",
    "#df['CÓDIGO'] = df['CÓDIGO'].astype(float)"
   ]
  },
  {
   "cell_type": "code",
   "execution_count": 111,
   "id": "f7b484cb-aafd-488d-a592-3244b0950234",
   "metadata": {},
   "outputs": [
    {
     "data": {
      "text/plain": [
       "CÓDIGO                  object\n",
       "NOME                    object\n",
       "CPF                     object\n",
       "RG                      object\n",
       "CONTA CONTRATO          object\n",
       "ENDEREÇO                object\n",
       "CEP                     object\n",
       "MUNICÍPIO               object\n",
       "UF                      object\n",
       "RAMO DE ATIVIDADE       object\n",
       "CLASSE                  object\n",
       "TIPO DE LIGAÇÃO         object\n",
       "DISJUNTOR DE ENTRADA    object\n",
       "TIPO DE RAMAL           object\n",
       "ENQUADRAMENTO           object\n",
       "X                       object\n",
       "Y                       object\n",
       "dtype: object"
      ]
     },
     "execution_count": 111,
     "metadata": {},
     "output_type": "execute_result"
    }
   ],
   "source": [
    "df.dtypes"
   ]
  },
  {
   "cell_type": "code",
   "execution_count": 112,
   "id": "06fc29ae-0dcd-4465-aeff-775a805a7e55",
   "metadata": {},
   "outputs": [],
   "source": [
    "df_filtrado = df[(df['CÓDIGO']==cod)]"
   ]
  },
  {
   "cell_type": "code",
   "execution_count": 113,
   "id": "5270ab52-16e7-4b7e-8988-9d7ca91c0bf3",
   "metadata": {
    "tags": []
   },
   "outputs": [
    {
     "data": {
      "text/plain": [
       "CÓDIGO                  object\n",
       "NOME                    object\n",
       "CPF                     object\n",
       "RG                      object\n",
       "CONTA CONTRATO          object\n",
       "ENDEREÇO                object\n",
       "CEP                     object\n",
       "MUNICÍPIO               object\n",
       "UF                      object\n",
       "RAMO DE ATIVIDADE       object\n",
       "CLASSE                  object\n",
       "TIPO DE LIGAÇÃO         object\n",
       "DISJUNTOR DE ENTRADA    object\n",
       "TIPO DE RAMAL           object\n",
       "ENQUADRAMENTO           object\n",
       "X                       object\n",
       "Y                       object\n",
       "dtype: object"
      ]
     },
     "execution_count": 113,
     "metadata": {},
     "output_type": "execute_result"
    }
   ],
   "source": [
    "df_filtrado.dtypes"
   ]
  },
  {
   "cell_type": "code",
   "execution_count": 114,
   "id": "999870a6-b695-4590-b6f8-614f2294941c",
   "metadata": {},
   "outputs": [],
   "source": [
    "dict1 = df_filtrado.to_dict(orient='index')[0]"
   ]
  },
  {
   "cell_type": "raw",
   "id": "85cb3223-243f-4df3-a5b9-96389887b3df",
   "metadata": {},
   "source": [
    "dict1['CPF'] = str(dict1['CPF'])\n",
    "dict1['RG'] = str(dict1['CPF'])\n",
    "dict1['CONTA CONTRATO'] = str(dict1['CPF'])\n",
    "dict1['CEP'] = str(dict1['CPF'])\n",
    "dict1['CPF'] = str(dict1['CPF'])\n",
    "dict1['CPF'] = str(dict1['CPF'])"
   ]
  },
  {
   "cell_type": "code",
   "execution_count": 115,
   "id": "ac52d4a9-6d54-41e8-b16b-fb701cb3c018",
   "metadata": {},
   "outputs": [],
   "source": [
    "for key in dict1:\n",
    "        if isinstance(dict1[key], str) == False:\n",
    "            dict1[key] = str(dict1[key])\n",
    "\n",
    "dict1['CÓDIGO'] = int(dict1['CÓDIGO'])"
   ]
  },
  {
   "cell_type": "code",
   "execution_count": 116,
   "id": "1de864bb-ea98-4355-bb8d-a96f5c8ab2b5",
   "metadata": {},
   "outputs": [
    {
     "data": {
      "text/plain": [
       "{'CÓDIGO': 25,\n",
       " 'NOME': 'JOSYNELMA ROCHA SANTANA',\n",
       " 'CPF': '88412385349',\n",
       " 'RG': '37369938',\n",
       " 'CONTA CONTRATO': '3013136814',\n",
       " 'ENDEREÇO': 'R. NOVA, 21, RES TUPINAMBA, TURU',\n",
       " 'CEP': '65066350',\n",
       " 'MUNICÍPIO': 'SÃO LUÍS',\n",
       " 'UF': 'MA',\n",
       " 'RAMO DE ATIVIDADE': 'RESIDENCIAL',\n",
       " 'CLASSE': 'RESIDENCIAL',\n",
       " 'TIPO DE LIGAÇÃO': 'MONOFÁSICO',\n",
       " 'DISJUNTOR DE ENTRADA': '40',\n",
       " 'TIPO DE RAMAL': 'AÉREO',\n",
       " 'ENQUADRAMENTO': 'INDIVIDUAL',\n",
       " 'X': '-2.523146',\n",
       " 'Y': '-44.223851'}"
      ]
     },
     "execution_count": 116,
     "metadata": {},
     "output_type": "execute_result"
    }
   ],
   "source": [
    "dict1"
   ]
  },
  {
   "cell_type": "code",
   "execution_count": 72,
   "id": "cc0ce11c-b1b6-4bec-9274-d843e4a7440d",
   "metadata": {},
   "outputs": [
    {
     "data": {
      "text/plain": [
       "'R. NOVA, 21, RES TUPINAMBA'"
      ]
     },
     "execution_count": 72,
     "metadata": {},
     "output_type": "execute_result"
    }
   ],
   "source": [
    "','.join(dict1.get('ENDEREÇO').split(',')[0:-1])"
   ]
  },
  {
   "cell_type": "code",
   "execution_count": 46,
   "id": "f4d954a8-48f2-4e97-b060-013ce1fa7848",
   "metadata": {},
   "outputs": [],
   "source": [
    "wb_path = \"planilhas/relatorio_comissionamento.xlsx\"\n",
    "wb = load_workbook(wb_path)\n",
    "ws = wb.active"
   ]
  },
  {
   "cell_type": "code",
   "execution_count": 50,
   "id": "89934c0a-dabf-4f63-8bfa-0aa33f313faf",
   "metadata": {},
   "outputs": [],
   "source": [
    "ws['C6'] = dict1.get('NOME')\n",
    "ws['O6'] = dict1.get('CONTA CONTRATO')\n",
    "ws['C9'] = dict1.get('CEP')\n",
    "ws['F9'] = dict1.get('MUNICÍPIO')\n",
    "ws['C8'] = dict1.get('ENDEREÇO')"
   ]
  },
  {
   "cell_type": "code",
   "execution_count": 66,
   "id": "382fa161-6f16-40be-a867-b552d4fb9cf1",
   "metadata": {},
   "outputs": [],
   "source": [
    "primeiro_nome = dict1.get('NOME').split(' ')[0].lower()"
   ]
  },
  {
   "cell_type": "code",
   "execution_count": 67,
   "id": "4b31b5a3-381b-4997-a494-221510d5047a",
   "metadata": {},
   "outputs": [
    {
     "data": {
      "text/plain": [
       "'josynelma'"
      ]
     },
     "execution_count": 67,
     "metadata": {},
     "output_type": "execute_result"
    }
   ],
   "source": [
    "primeiro_nome"
   ]
  },
  {
   "cell_type": "code",
   "execution_count": 52,
   "id": "9e447173-bde4-4ecd-8baf-1ed1f7b1335f",
   "metadata": {
    "tags": []
   },
   "outputs": [],
   "source": [
    "wb.save(f'planilhas/RELATORIO_COMISSIONAMENTO_{primeiro_nome}.xlsx')"
   ]
  },
  {
   "cell_type": "code",
   "execution_count": 73,
   "id": "0b8494ba-3ca2-41a6-8543-2fe7c9eacbdd",
   "metadata": {},
   "outputs": [],
   "source": [
    "wb.close()"
   ]
  },
  {
   "cell_type": "code",
   "execution_count": 74,
   "id": "dcfda33c-cff2-47a5-beed-fac969698e01",
   "metadata": {},
   "outputs": [],
   "source": [
    "wb_path = \"planilhas/solicitacao_acesso.xlsx\"\n",
    "wb = load_workbook(wb_path)\n",
    "ws = wb.active"
   ]
  },
  {
   "cell_type": "code",
   "execution_count": 55,
   "id": "65cefab4-c2a2-4e34-a62d-4dd82c7c02f8",
   "metadata": {},
   "outputs": [],
   "source": [
    "ws['C10'] = dict1.get('NOME')\n",
    "ws['P27'] = dict1.get('DISJUNTOR DE ENTRADA')\n",
    "ws['F29'] = dict1.get('TIPO DE RAMAL')"
   ]
  },
  {
   "cell_type": "code",
   "execution_count": 56,
   "id": "659d6d30-b499-4cb6-a154-790170227fc8",
   "metadata": {},
   "outputs": [],
   "source": [
    "wb.save(f'planilhas/SOLICITACAO_ACESSO_{primeiro_nome}.xlsx')"
   ]
  },
  {
   "cell_type": "code",
   "execution_count": null,
   "id": "cc3c9923-eab6-4afa-a07b-ae8370c7cfda",
   "metadata": {},
   "outputs": [],
   "source": []
  }
 ],
 "metadata": {
  "kernelspec": {
   "display_name": "Python 3 (ipykernel)",
   "language": "python",
   "name": "python3"
  },
  "language_info": {
   "codemirror_mode": {
    "name": "ipython",
    "version": 3
   },
   "file_extension": ".py",
   "mimetype": "text/x-python",
   "name": "python",
   "nbconvert_exporter": "python",
   "pygments_lexer": "ipython3",
   "version": "3.9.13"
  }
 },
 "nbformat": 4,
 "nbformat_minor": 5
}
