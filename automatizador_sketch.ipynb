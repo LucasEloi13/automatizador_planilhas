{
 "cells": [
  {
   "cell_type": "code",
   "execution_count": 3,
   "id": "3f40900a-1ecf-49c5-bfef-581bcddb874c",
   "metadata": {},
   "outputs": [],
   "source": [
    "import pandas as pd\n",
    "import numpy as np\n",
    "from openpyxl import load_workbook"
   ]
  },
  {
   "cell_type": "code",
   "execution_count": 14,
   "id": "e9facb1e-ba80-4251-b5e0-f53724447270",
   "metadata": {},
   "outputs": [],
   "source": [
    "caminho_pai = \"planilhas/tabela_cliente.xlsx\""
   ]
  },
  {
   "cell_type": "code",
   "execution_count": 15,
   "id": "38bedc34-85cc-45ae-b985-e24188294e98",
   "metadata": {},
   "outputs": [],
   "source": [
    "df = pd.DataFrame(pd.read_excel(caminho_pai))\n",
    "\n",
    "df_placas = pd.DataFrame(pd.read_excel(\"planilhas/placas.xlsx\"))"
   ]
  },
  {
   "cell_type": "code",
   "execution_count": 6,
   "id": "a949a378-ac06-443a-ba2c-905aa37ad686",
   "metadata": {},
   "outputs": [
    {
     "data": {
      "text/html": [
       "<div>\n",
       "<style scoped>\n",
       "    .dataframe tbody tr th:only-of-type {\n",
       "        vertical-align: middle;\n",
       "    }\n",
       "\n",
       "    .dataframe tbody tr th {\n",
       "        vertical-align: top;\n",
       "    }\n",
       "\n",
       "    .dataframe thead th {\n",
       "        text-align: right;\n",
       "    }\n",
       "</style>\n",
       "<table border=\"1\" class=\"dataframe\">\n",
       "  <thead>\n",
       "    <tr style=\"text-align: right;\">\n",
       "      <th></th>\n",
       "      <th>CÓDIGO</th>\n",
       "      <th>NOME</th>\n",
       "      <th>CPF</th>\n",
       "      <th>RG</th>\n",
       "      <th>CONTA CONTRATO</th>\n",
       "      <th>ENDEREÇO</th>\n",
       "      <th>CEP</th>\n",
       "      <th>MUNICÍPIO</th>\n",
       "      <th>UF</th>\n",
       "      <th>RAMO DE ATIVIDADE</th>\n",
       "      <th>CLASSE</th>\n",
       "      <th>TIPO DE LIGAÇÃO</th>\n",
       "      <th>DISJUNTOR DE ENTRADA</th>\n",
       "      <th>TIPO DE RAMAL</th>\n",
       "      <th>ENQUADRAMENTO</th>\n",
       "      <th>X</th>\n",
       "      <th>Y</th>\n",
       "      <th>PAINEL</th>\n",
       "      <th>QTD MOD</th>\n",
       "      <th>INVERSOR</th>\n",
       "    </tr>\n",
       "  </thead>\n",
       "  <tbody>\n",
       "    <tr>\n",
       "      <th>0</th>\n",
       "      <td>25</td>\n",
       "      <td>JOSYNELMA ROCHA SANTANA</td>\n",
       "      <td>88412385349</td>\n",
       "      <td>37369938</td>\n",
       "      <td>3013136814</td>\n",
       "      <td>R. NOVA, 21, RES TUPINAMBA, TURU</td>\n",
       "      <td>65066350</td>\n",
       "      <td>SÃO LUÍS</td>\n",
       "      <td>MA</td>\n",
       "      <td>RESIDENCIAL</td>\n",
       "      <td>RESIDENCIAL</td>\n",
       "      <td>MONOFÁSICO</td>\n",
       "      <td>40</td>\n",
       "      <td>AÉREO</td>\n",
       "      <td>INDIVIDUAL</td>\n",
       "      <td>-2.523146</td>\n",
       "      <td>-44.223851</td>\n",
       "      <td>NaN</td>\n",
       "      <td>NaN</td>\n",
       "      <td>NaN</td>\n",
       "    </tr>\n",
       "    <tr>\n",
       "      <th>1</th>\n",
       "      <td>53</td>\n",
       "      <td>MARIA DE LOURDES RABELO FREITAS</td>\n",
       "      <td>25371118349</td>\n",
       "      <td>577733620156</td>\n",
       "      <td>3008249643</td>\n",
       "      <td>AV GLEYDSON LUCAS , S/N , PQ JAIR</td>\n",
       "      <td>65110000</td>\n",
       "      <td>SÃO JOSÉ DE RIBAMAR</td>\n",
       "      <td>MA</td>\n",
       "      <td>RESIDENCIAL</td>\n",
       "      <td>RESIDENCIAL</td>\n",
       "      <td>MONOFÁSICO</td>\n",
       "      <td>40</td>\n",
       "      <td>AÉREO</td>\n",
       "      <td>INDIVIDUAL</td>\n",
       "      <td>-2.512790</td>\n",
       "      <td>-44.184868</td>\n",
       "      <td>NaN</td>\n",
       "      <td>NaN</td>\n",
       "      <td>NaN</td>\n",
       "    </tr>\n",
       "    <tr>\n",
       "      <th>2</th>\n",
       "      <td>67</td>\n",
       "      <td>MARCIO ANTONIO OLIVEIRA DE SOUSA</td>\n",
       "      <td>85676969334</td>\n",
       "      <td>190374942</td>\n",
       "      <td>2717760</td>\n",
       "      <td>R. 8, 55, QD 11, COHATRAC V</td>\n",
       "      <td>65110000</td>\n",
       "      <td>SÃO JOSÉ DE RIBAMAR</td>\n",
       "      <td>MA</td>\n",
       "      <td>RESIDENCIAL</td>\n",
       "      <td>RESIDENCIAL</td>\n",
       "      <td>MONOFÁSICO</td>\n",
       "      <td>63</td>\n",
       "      <td>AÉREO</td>\n",
       "      <td>INDIVIDUAL</td>\n",
       "      <td>-2.545380</td>\n",
       "      <td>-44.206670</td>\n",
       "      <td>NaN</td>\n",
       "      <td>NaN</td>\n",
       "      <td>NaN</td>\n",
       "    </tr>\n",
       "    <tr>\n",
       "      <th>3</th>\n",
       "      <td>68</td>\n",
       "      <td>MARLUCIA DA COSTA</td>\n",
       "      <td>23758376300</td>\n",
       "      <td>673481</td>\n",
       "      <td>3011297888</td>\n",
       "      <td>R. FAZENDA , 01 , CHACARA NOSSA SENHORA</td>\n",
       "      <td>65800000</td>\n",
       "      <td>BALSAS</td>\n",
       "      <td>MA</td>\n",
       "      <td>RESIDENCIAL</td>\n",
       "      <td>RESIDENCIAL</td>\n",
       "      <td>MONOFÁSICO</td>\n",
       "      <td>63</td>\n",
       "      <td>AÉREO</td>\n",
       "      <td>AUTOCONSUMO REMOTO</td>\n",
       "      <td>-7.569110</td>\n",
       "      <td>-46.232780</td>\n",
       "      <td>Leapton Mono 550</td>\n",
       "      <td>NaN</td>\n",
       "      <td>ASW7300-S</td>\n",
       "    </tr>\n",
       "    <tr>\n",
       "      <th>4</th>\n",
       "      <td>69</td>\n",
       "      <td>ANISIO BERNARDO ALMEIDA NETO</td>\n",
       "      <td>7490054320</td>\n",
       "      <td>266272920039</td>\n",
       "      <td>3016955360</td>\n",
       "      <td>R. Quatro, 22, Cohatrac IV</td>\n",
       "      <td>65054630</td>\n",
       "      <td>SÃO LUÍS</td>\n",
       "      <td>MA</td>\n",
       "      <td>RESIDENCIAL</td>\n",
       "      <td>RESIDENCIAL</td>\n",
       "      <td>MONOFÁSICO</td>\n",
       "      <td>63</td>\n",
       "      <td>AÉREO</td>\n",
       "      <td>AUTOCONSUMO REMOTO</td>\n",
       "      <td>-2.536256</td>\n",
       "      <td>-44.210288</td>\n",
       "      <td>Leapton Mono 550</td>\n",
       "      <td>NaN</td>\n",
       "      <td>ASW5000-S</td>\n",
       "    </tr>\n",
       "    <tr>\n",
       "      <th>5</th>\n",
       "      <td>70</td>\n",
       "      <td>TANIA REGINA CALDAS DE CASTRO</td>\n",
       "      <td>61650404387</td>\n",
       "      <td>1085330998</td>\n",
       "      <td>3012187660</td>\n",
       "      <td>R. 16 , 01 , CS 19, QD 23 COND PORTAL DO ARACA...</td>\n",
       "      <td>65130000</td>\n",
       "      <td>Paço do Lumiar</td>\n",
       "      <td>MA</td>\n",
       "      <td>RESIDENCIAL</td>\n",
       "      <td>RESIDENCIAL</td>\n",
       "      <td>MONOFÁSICO</td>\n",
       "      <td>63</td>\n",
       "      <td>AÉREO</td>\n",
       "      <td>INDIVIDUAL</td>\n",
       "      <td>-2.479620</td>\n",
       "      <td>-44.169760</td>\n",
       "      <td>Leapton Mono 665</td>\n",
       "      <td>16.0</td>\n",
       "      <td>ASW7300-S</td>\n",
       "    </tr>\n",
       "    <tr>\n",
       "      <th>6</th>\n",
       "      <td>71</td>\n",
       "      <td>GENESIO RODRIGUES DA SILVA FILHO</td>\n",
       "      <td>75197820349</td>\n",
       "      <td>33048942</td>\n",
       "      <td>1450298</td>\n",
       "      <td>R. JOSE ANTONIO FRANCY , 18, DIVINEIA</td>\n",
       "      <td>65010000</td>\n",
       "      <td>SÃO LUÍS</td>\n",
       "      <td>MA</td>\n",
       "      <td>RESIDENCIAL</td>\n",
       "      <td>RESIDENCIAL</td>\n",
       "      <td>MONOFÁSICO</td>\n",
       "      <td>63</td>\n",
       "      <td>AÉREO</td>\n",
       "      <td>INDIVIDUAL</td>\n",
       "      <td>-2.498070</td>\n",
       "      <td>-44.217870</td>\n",
       "      <td>Leapton Mono 550</td>\n",
       "      <td>8.0</td>\n",
       "      <td>GT1-3K-S</td>\n",
       "    </tr>\n",
       "  </tbody>\n",
       "</table>\n",
       "</div>"
      ],
      "text/plain": [
       "   CÓDIGO                               NOME          CPF            RG  \\\n",
       "0      25            JOSYNELMA ROCHA SANTANA  88412385349      37369938   \n",
       "1      53    MARIA DE LOURDES RABELO FREITAS  25371118349  577733620156   \n",
       "2      67  MARCIO ANTONIO OLIVEIRA DE SOUSA   85676969334     190374942   \n",
       "3      68                  MARLUCIA DA COSTA  23758376300        673481   \n",
       "4      69       ANISIO BERNARDO ALMEIDA NETO   7490054320  266272920039   \n",
       "5      70      TANIA REGINA CALDAS DE CASTRO  61650404387    1085330998   \n",
       "6      71   GENESIO RODRIGUES DA SILVA FILHO  75197820349      33048942   \n",
       "\n",
       "   CONTA CONTRATO                                           ENDEREÇO  \\\n",
       "0      3013136814                   R. NOVA, 21, RES TUPINAMBA, TURU   \n",
       "1      3008249643                  AV GLEYDSON LUCAS , S/N , PQ JAIR   \n",
       "2         2717760                        R. 8, 55, QD 11, COHATRAC V   \n",
       "3      3011297888            R. FAZENDA , 01 , CHACARA NOSSA SENHORA   \n",
       "4      3016955360                         R. Quatro, 22, Cohatrac IV   \n",
       "5      3012187660  R. 16 , 01 , CS 19, QD 23 COND PORTAL DO ARACA...   \n",
       "6         1450298              R. JOSE ANTONIO FRANCY , 18, DIVINEIA   \n",
       "\n",
       "        CEP            MUNICÍPIO  UF RAMO DE ATIVIDADE       CLASSE  \\\n",
       "0  65066350             SÃO LUÍS  MA       RESIDENCIAL  RESIDENCIAL   \n",
       "1  65110000  SÃO JOSÉ DE RIBAMAR  MA       RESIDENCIAL  RESIDENCIAL   \n",
       "2  65110000  SÃO JOSÉ DE RIBAMAR  MA       RESIDENCIAL  RESIDENCIAL   \n",
       "3  65800000               BALSAS  MA       RESIDENCIAL  RESIDENCIAL   \n",
       "4  65054630             SÃO LUÍS  MA       RESIDENCIAL  RESIDENCIAL   \n",
       "5  65130000       Paço do Lumiar  MA       RESIDENCIAL  RESIDENCIAL   \n",
       "6  65010000             SÃO LUÍS  MA       RESIDENCIAL  RESIDENCIAL   \n",
       "\n",
       "  TIPO DE LIGAÇÃO  DISJUNTOR DE ENTRADA TIPO DE RAMAL       ENQUADRAMENTO  \\\n",
       "0      MONOFÁSICO                    40         AÉREO          INDIVIDUAL   \n",
       "1      MONOFÁSICO                    40         AÉREO          INDIVIDUAL   \n",
       "2      MONOFÁSICO                    63         AÉREO          INDIVIDUAL   \n",
       "3      MONOFÁSICO                    63         AÉREO  AUTOCONSUMO REMOTO   \n",
       "4      MONOFÁSICO                    63         AÉREO  AUTOCONSUMO REMOTO   \n",
       "5      MONOFÁSICO                    63         AÉREO          INDIVIDUAL   \n",
       "6      MONOFÁSICO                    63         AÉREO          INDIVIDUAL   \n",
       "\n",
       "          X          Y            PAINEL  QTD MOD   INVERSOR  \n",
       "0 -2.523146 -44.223851               NaN      NaN        NaN  \n",
       "1 -2.512790 -44.184868               NaN      NaN        NaN  \n",
       "2 -2.545380 -44.206670               NaN      NaN        NaN  \n",
       "3 -7.569110 -46.232780  Leapton Mono 550      NaN  ASW7300-S  \n",
       "4 -2.536256 -44.210288  Leapton Mono 550      NaN  ASW5000-S  \n",
       "5 -2.479620 -44.169760  Leapton Mono 665     16.0  ASW7300-S  \n",
       "6 -2.498070 -44.217870  Leapton Mono 550      8.0   GT1-3K-S  "
      ]
     },
     "execution_count": 6,
     "metadata": {},
     "output_type": "execute_result"
    }
   ],
   "source": [
    "df"
   ]
  },
  {
   "cell_type": "code",
   "execution_count": 18,
   "id": "fdc46410-263b-445b-93e4-eed76ba78d7a",
   "metadata": {
    "tags": []
   },
   "outputs": [],
   "source": [
    "cod = 71"
   ]
  },
  {
   "cell_type": "code",
   "execution_count": 19,
   "id": "b85e982a-25f8-4f3a-9026-e7fbcd5c9c88",
   "metadata": {},
   "outputs": [],
   "source": [
    "df = df.astype('object')"
   ]
  },
  {
   "cell_type": "code",
   "execution_count": 20,
   "id": "06fc29ae-0dcd-4465-aeff-775a805a7e55",
   "metadata": {},
   "outputs": [],
   "source": [
    "df_filtrado = df[(df['CÓDIGO']==cod)]"
   ]
  },
  {
   "cell_type": "code",
   "execution_count": 21,
   "id": "65a7789b-6066-4c53-b0d1-5e39a4d1038f",
   "metadata": {},
   "outputs": [
    {
     "data": {
      "text/html": [
       "<div>\n",
       "<style scoped>\n",
       "    .dataframe tbody tr th:only-of-type {\n",
       "        vertical-align: middle;\n",
       "    }\n",
       "\n",
       "    .dataframe tbody tr th {\n",
       "        vertical-align: top;\n",
       "    }\n",
       "\n",
       "    .dataframe thead th {\n",
       "        text-align: right;\n",
       "    }\n",
       "</style>\n",
       "<table border=\"1\" class=\"dataframe\">\n",
       "  <thead>\n",
       "    <tr style=\"text-align: right;\">\n",
       "      <th></th>\n",
       "      <th>CÓDIGO</th>\n",
       "      <th>NOME</th>\n",
       "      <th>CPF</th>\n",
       "      <th>RG</th>\n",
       "      <th>CONTA CONTRATO</th>\n",
       "      <th>ENDEREÇO</th>\n",
       "      <th>CEP</th>\n",
       "      <th>MUNICÍPIO</th>\n",
       "      <th>UF</th>\n",
       "      <th>RAMO DE ATIVIDADE</th>\n",
       "      <th>...</th>\n",
       "      <th>TENS NOMINAL</th>\n",
       "      <th>POT PLACA</th>\n",
       "      <th>POT INV</th>\n",
       "      <th>NUM COND</th>\n",
       "      <th>COND FASE</th>\n",
       "      <th>mono or poli</th>\n",
       "      <th>modelo FV</th>\n",
       "      <th>PD KVA</th>\n",
       "      <th>PD KW</th>\n",
       "      <th>FIO</th>\n",
       "    </tr>\n",
       "  </thead>\n",
       "  <tbody>\n",
       "    <tr>\n",
       "      <th>6</th>\n",
       "      <td>71</td>\n",
       "      <td>GENESIO RODRIGUES DA SILVA FILHO</td>\n",
       "      <td>75197820349</td>\n",
       "      <td>33048942</td>\n",
       "      <td>1450298</td>\n",
       "      <td>R. JOSE ANTONIO FRANCY , 18, DIVINEIA</td>\n",
       "      <td>65010000</td>\n",
       "      <td>SÃO LUÍS</td>\n",
       "      <td>MA</td>\n",
       "      <td>RESIDENCIAL</td>\n",
       "      <td>...</td>\n",
       "      <td>NaN</td>\n",
       "      <td>NaN</td>\n",
       "      <td>NaN</td>\n",
       "      <td>NaN</td>\n",
       "      <td>NaN</td>\n",
       "      <td>NaN</td>\n",
       "      <td>NaN</td>\n",
       "      <td>NaN</td>\n",
       "      <td>NaN</td>\n",
       "      <td>NaN</td>\n",
       "    </tr>\n",
       "  </tbody>\n",
       "</table>\n",
       "<p>1 rows × 32 columns</p>\n",
       "</div>"
      ],
      "text/plain": [
       "  CÓDIGO                              NOME          CPF        RG  \\\n",
       "6     71  GENESIO RODRIGUES DA SILVA FILHO  75197820349  33048942   \n",
       "\n",
       "  CONTA CONTRATO                               ENDEREÇO       CEP MUNICÍPIO  \\\n",
       "6        1450298  R. JOSE ANTONIO FRANCY , 18, DIVINEIA  65010000  SÃO LUÍS   \n",
       "\n",
       "   UF RAMO DE ATIVIDADE  ... TENS NOMINAL POT PLACA POT INV NUM COND  \\\n",
       "6  MA       RESIDENCIAL  ...          NaN       NaN     NaN      NaN   \n",
       "\n",
       "  COND FASE mono or poli modelo FV PD KVA PD KW  FIO  \n",
       "6       NaN          NaN       NaN    NaN   NaN  NaN  \n",
       "\n",
       "[1 rows x 32 columns]"
      ]
     },
     "execution_count": 21,
     "metadata": {},
     "output_type": "execute_result"
    }
   ],
   "source": [
    "df_filtrado"
   ]
  },
  {
   "cell_type": "code",
   "execution_count": 22,
   "id": "999870a6-b695-4590-b6f8-614f2294941c",
   "metadata": {},
   "outputs": [],
   "source": [
    "dict1 = df_filtrado.to_dict(orient='index')\n",
    "\n",
    "for i in dict1:\n",
    "    a = i\n",
    "\n",
    "dict1 = dict1.get(i)"
   ]
  },
  {
   "cell_type": "code",
   "execution_count": 23,
   "id": "8681edeb-5fe9-455c-b351-74926b4191fe",
   "metadata": {},
   "outputs": [
    {
     "data": {
      "text/plain": [
       "6"
      ]
     },
     "execution_count": 23,
     "metadata": {},
     "output_type": "execute_result"
    }
   ],
   "source": [
    "i"
   ]
  },
  {
   "cell_type": "code",
   "execution_count": 13,
   "id": "2964c398-f94e-4ae9-8d2a-da298140e613",
   "metadata": {},
   "outputs": [
    {
     "data": {
      "text/plain": [
       "4"
      ]
     },
     "execution_count": 13,
     "metadata": {},
     "output_type": "execute_result"
    }
   ],
   "source": [
    "a"
   ]
  },
  {
   "cell_type": "code",
   "execution_count": null,
   "id": "ed63b516-1d38-4fa4-b8c1-a99779faf356",
   "metadata": {},
   "outputs": [],
   "source": []
  },
  {
   "cell_type": "code",
   "execution_count": 24,
   "id": "4634b36c-ccf5-46ab-8baf-3f4bfbb749c4",
   "metadata": {},
   "outputs": [
    {
     "data": {
      "text/plain": [
       "{'CÓDIGO': 71,\n",
       " 'NOME': 'GENESIO RODRIGUES DA SILVA FILHO',\n",
       " 'CPF': 75197820349,\n",
       " 'RG': 33048942,\n",
       " 'CONTA CONTRATO': 1450298,\n",
       " 'ENDEREÇO': 'R. JOSE ANTONIO FRANCY , 18, DIVINEIA',\n",
       " 'CEP': 65010000,\n",
       " 'MUNICÍPIO': 'SÃO LUÍS',\n",
       " 'UF': 'MA',\n",
       " 'RAMO DE ATIVIDADE': 'RESIDENCIAL',\n",
       " 'CLASSE': 'RESIDENCIAL',\n",
       " 'TIPO DE LIGAÇÃO': 'MONOFÁSICO',\n",
       " 'DISJUNTOR DE ENTRADA': 63,\n",
       " 'TIPO DE RAMAL': 'AÉREO',\n",
       " 'ENQUADRAMENTO': 'INDIVIDUAL',\n",
       " 'X': -2.49807,\n",
       " 'Y': -44.21787,\n",
       " 'PAINEL': 'Leapton Mono 550',\n",
       " 'QTD MOD': 8.0,\n",
       " 'INVERSOR': 'GT1-3K-S',\n",
       " 'QTD INV': 1.0,\n",
       " 'POT KWP': nan,\n",
       " 'TENS NOMINAL': nan,\n",
       " 'POT PLACA': nan,\n",
       " 'POT INV': nan,\n",
       " 'NUM COND': nan,\n",
       " 'COND FASE': nan,\n",
       " 'mono or poli': nan,\n",
       " 'modelo FV': nan,\n",
       " 'PD KVA': nan,\n",
       " 'PD KW': nan,\n",
       " 'FIO': nan}"
      ]
     },
     "execution_count": 24,
     "metadata": {},
     "output_type": "execute_result"
    }
   ],
   "source": [
    "dict1"
   ]
  },
  {
   "cell_type": "raw",
   "id": "85cb3223-243f-4df3-a5b9-96389887b3df",
   "metadata": {
    "jupyter": {
     "source_hidden": true
    },
    "tags": []
   },
   "source": [
    "dict1['CPF'] = str(dict1['CPF'])\n",
    "dict1['RG'] = str(dict1['CPF'])\n",
    "dict1['CONTA CONTRATO'] = str(dict1['CPF'])\n",
    "dict1['CEP'] = str(dict1['CPF'])\n",
    "dict1['CPF'] = str(dict1['CPF'])\n",
    "dict1['CPF'] = str(dict1['CPF'])"
   ]
  },
  {
   "cell_type": "code",
   "execution_count": 11,
   "id": "ac52d4a9-6d54-41e8-b16b-fb701cb3c018",
   "metadata": {},
   "outputs": [],
   "source": [
    "for key in dict1:\n",
    "        if isinstance(dict1[key], str) == False:\n",
    "            dict1[key] = str(dict1[key])\n",
    "\n",
    "#dict1['CÓDIGO'] = int(dict1['CÓDIGO'])"
   ]
  },
  {
   "cell_type": "code",
   "execution_count": 29,
   "id": "1de864bb-ea98-4355-bb8d-a96f5c8ab2b5",
   "metadata": {},
   "outputs": [
    {
     "data": {
      "text/plain": [
       "{'CÓDIGO': 71,\n",
       " 'NOME': 'GENESIO RODRIGUES DA SILVA FILHO',\n",
       " 'CPF': 75197820349,\n",
       " 'RG': 33048942,\n",
       " 'CONTA CONTRATO': 1450298,\n",
       " 'ENDEREÇO': 'R. JOSE ANTONIO FRANCY , 18, DIVINEIA',\n",
       " 'CEP': 65010000,\n",
       " 'MUNICÍPIO': 'SÃO LUÍS',\n",
       " 'UF': 'MA',\n",
       " 'RAMO DE ATIVIDADE': 'RESIDENCIAL',\n",
       " 'CLASSE': 'RESIDENCIAL',\n",
       " 'TIPO DE LIGAÇÃO': 'MONOFÁSICO',\n",
       " 'DISJUNTOR DE ENTRADA': 63,\n",
       " 'TIPO DE RAMAL': 'AÉREO',\n",
       " 'ENQUADRAMENTO': 'INDIVIDUAL',\n",
       " 'X': -2.49807,\n",
       " 'Y': -44.21787,\n",
       " 'PAINEL': 'Leapton Mono 550',\n",
       " 'QTD MOD': 8.0,\n",
       " 'INVERSOR': 'GT1-3K-S',\n",
       " 'QTD INV': 1.0,\n",
       " 'POT KWP': nan,\n",
       " 'TENS NOMINAL': nan,\n",
       " 'POT PLACA': nan,\n",
       " 'POT INV': nan,\n",
       " 'NUM COND': nan,\n",
       " 'COND FASE': nan,\n",
       " 'mono or poli': nan,\n",
       " 'modelo FV': nan,\n",
       " 'PD KVA': nan,\n",
       " 'PD KW': nan,\n",
       " 'FIO': nan}"
      ]
     },
     "execution_count": 29,
     "metadata": {},
     "output_type": "execute_result"
    }
   ],
   "source": [
    "dict1"
   ]
  },
  {
   "cell_type": "code",
   "execution_count": 13,
   "id": "d3faa40a-8713-43a4-8cdd-2984dd36cb26",
   "metadata": {},
   "outputs": [
    {
     "ename": "SyntaxError",
     "evalue": "invalid syntax (1187089488.py, line 1)",
     "output_type": "error",
     "traceback": [
      "\u001b[1;36m  Input \u001b[1;32mIn [13]\u001b[1;36m\u001b[0m\n\u001b[1;33m    if dict1.get('PAINEL')\u001b[0m\n\u001b[1;37m                          ^\u001b[0m\n\u001b[1;31mSyntaxError\u001b[0m\u001b[1;31m:\u001b[0m invalid syntax\n"
     ]
    }
   ],
   "source": [
    "if dict1.get('PAINEL')"
   ]
  },
  {
   "cell_type": "code",
   "execution_count": null,
   "id": "f4d954a8-48f2-4e97-b060-013ce1fa7848",
   "metadata": {},
   "outputs": [],
   "source": [
    "wb_path = \"planilhas/relatorio_comissionamento.xlsx\"\n",
    "wb = load_workbook(wb_path)\n",
    "ws = wb.active"
   ]
  },
  {
   "cell_type": "code",
   "execution_count": null,
   "id": "89934c0a-dabf-4f63-8bfa-0aa33f313faf",
   "metadata": {},
   "outputs": [],
   "source": [
    "ws['C6'] = dict1.get('NOME')\n",
    "ws['O6'] = dict1.get('CONTA CONTRATO')\n",
    "ws['C9'] = dict1.get('CEP')\n",
    "ws['F9'] = dict1.get('MUNICÍPIO')\n",
    "ws['C8'] = dict1.get('ENDEREÇO')"
   ]
  },
  {
   "cell_type": "code",
   "execution_count": null,
   "id": "382fa161-6f16-40be-a867-b552d4fb9cf1",
   "metadata": {},
   "outputs": [],
   "source": [
    "primeiro_nome = dict1.get('NOME').split(' ')[0].lower()"
   ]
  },
  {
   "cell_type": "code",
   "execution_count": null,
   "id": "4b31b5a3-381b-4997-a494-221510d5047a",
   "metadata": {},
   "outputs": [],
   "source": [
    "primeiro_nome"
   ]
  },
  {
   "cell_type": "code",
   "execution_count": null,
   "id": "9e447173-bde4-4ecd-8baf-1ed1f7b1335f",
   "metadata": {
    "tags": []
   },
   "outputs": [],
   "source": [
    "wb.save(f'planilhas/RELATORIO_COMISSIONAMENTO_{primeiro_nome}.xlsx')"
   ]
  },
  {
   "cell_type": "code",
   "execution_count": null,
   "id": "0b8494ba-3ca2-41a6-8543-2fe7c9eacbdd",
   "metadata": {},
   "outputs": [],
   "source": [
    "wb.close()"
   ]
  },
  {
   "cell_type": "code",
   "execution_count": null,
   "id": "dcfda33c-cff2-47a5-beed-fac969698e01",
   "metadata": {},
   "outputs": [],
   "source": [
    "wb_path = \"planilhas/solicitacao_acesso.xlsx\"\n",
    "wb = load_workbook(wb_path)\n",
    "ws = wb.active"
   ]
  },
  {
   "cell_type": "code",
   "execution_count": null,
   "id": "65cefab4-c2a2-4e34-a62d-4dd82c7c02f8",
   "metadata": {},
   "outputs": [],
   "source": [
    "ws['C10'] = dict1.get('NOME')\n",
    "ws['P27'] = dict1.get('DISJUNTOR DE ENTRADA')\n",
    "ws['F29'] = dict1.get('TIPO DE RAMAL')"
   ]
  },
  {
   "cell_type": "code",
   "execution_count": null,
   "id": "659d6d30-b499-4cb6-a154-790170227fc8",
   "metadata": {},
   "outputs": [],
   "source": [
    "wb.save(f'planilhas/SOLICITACAO_ACESSO_{primeiro_nome}.xlsx')"
   ]
  },
  {
   "cell_type": "code",
   "execution_count": null,
   "id": "cc3c9923-eab6-4afa-a07b-ae8370c7cfda",
   "metadata": {
    "tags": []
   },
   "outputs": [],
   "source": [
    "wb = load_workbook(\"planilhas/anexo_VI.xlsx\")"
   ]
  },
  {
   "cell_type": "code",
   "execution_count": 25,
   "id": "dd8d88fa-ac30-483f-8ace-fc77463791f7",
   "metadata": {},
   "outputs": [],
   "source": [
    "def modulo(modulo, path=\"planilhas/placas.xlsx\"):\n",
    "    df_m = pd.DataFrame(pd.read_excel(path))\n",
    "    df_modulo = df_m[df_m['NOME REF'] == modulo]\n",
    "    dict_modulo = df_modulo.to_dict(orient='index')\n",
    "    \n",
    "    for k in dict_modulo:\n",
    "        j = k\n",
    "        \n",
    "    \n",
    "    dict_modulo = dict_modulo.get(j)  \n",
    "    \n",
    "    return(dict_modulo)"
   ]
  },
  {
   "cell_type": "code",
   "execution_count": 27,
   "id": "201b6e68-4abe-4aa0-aa35-604907bb0100",
   "metadata": {},
   "outputs": [],
   "source": [
    "modulo_ref = dict1.get('PAINEL') \n",
    "infos_modulo = modulo(modulo_ref)"
   ]
  },
  {
   "cell_type": "code",
   "execution_count": 28,
   "id": "c6477ffb-9215-43ea-9454-4725b88906fc",
   "metadata": {},
   "outputs": [
    {
     "data": {
      "text/plain": [
       "550"
      ]
     },
     "execution_count": 28,
     "metadata": {},
     "output_type": "execute_result"
    }
   ],
   "source": [
    "infos_modulo.get('POTÊNCIA (W)')"
   ]
  },
  {
   "cell_type": "code",
   "execution_count": null,
   "id": "a19c9173-dc1b-4b58-83bd-3ad85b227f15",
   "metadata": {},
   "outputs": [],
   "source": []
  }
 ],
 "metadata": {
  "kernelspec": {
   "display_name": "Python 3 (ipykernel)",
   "language": "python",
   "name": "python3"
  },
  "language_info": {
   "codemirror_mode": {
    "name": "ipython",
    "version": 3
   },
   "file_extension": ".py",
   "mimetype": "text/x-python",
   "name": "python",
   "nbconvert_exporter": "python",
   "pygments_lexer": "ipython3",
   "version": "3.9.13"
  }
 },
 "nbformat": 4,
 "nbformat_minor": 5
}
