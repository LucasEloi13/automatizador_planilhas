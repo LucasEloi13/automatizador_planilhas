{
 "cells": [
  {
   "cell_type": "markdown",
   "id": "31beab6e-0d7c-4de0-a72c-7a2769ad993f",
   "metadata": {
    "tags": []
   },
   "source": [
    "## MOVER ARQUIVOS COM PYTHON"
   ]
  },
  {
   "cell_type": "code",
   "execution_count": 11,
   "id": "f9ac1a09-1745-44bc-880a-00dd9fa1fd0f",
   "metadata": {},
   "outputs": [],
   "source": [
    "from openpyxl import Workbook, load_workbook\n",
    "from openpyxl.styles import stylesheet\n",
    "from openpyxl.styles.numbers import BUILTIN_FORMATS, BUILTIN_FORMATS_MAX_SIZE"
   ]
  },
  {
   "cell_type": "code",
   "execution_count": 12,
   "id": "b1b8a2c6-078a-406c-b72c-f8611dc16570",
   "metadata": {},
   "outputs": [],
   "source": [
    "def _expand_named_style(self, named_style):\n",
    "    \"\"\"\n",
    "    Monkey-patched bind format definitions for a named style from the associated style\n",
    "    record\n",
    "    \"\"\"\n",
    "    try: xf = self.cellStyleXfs[named_style.xfId]\n",
    "    except: return  # WORKAROUND for faulty Excel sheets\n",
    "    named_style.font = self.fonts[xf.fontId]\n",
    "    named_style.fill = self.fills[xf.fillId]\n",
    "    named_style.border = self.borders[xf.borderId]\n",
    "    if xf.numFmtId < BUILTIN_FORMATS_MAX_SIZE: formats = BUILTIN_FORMATS\n",
    "    else:                                      formats = self.custom_formats\n",
    "    if xf.numFmtId in formats:\n",
    "        named_style.number_format = formats[xf.numFmtId]\n",
    "    if xf.alignment:\n",
    "        named_style.alignment = xf.alignment\n",
    "    if xf.protection:\n",
    "        named_style.protection = xf.protection"
   ]
  },
  {
   "cell_type": "code",
   "execution_count": 13,
   "id": "8cdb9206-62c8-4fe6-a07b-b31b0b58ce45",
   "metadata": {},
   "outputs": [],
   "source": [
    "stylesheet.Stylesheet._expand_named_style = _expand_named_style  # monkey-patch"
   ]
  },
  {
   "cell_type": "code",
   "execution_count": 14,
   "id": "07df3893-1c85-4650-bda6-fc334a93f42e",
   "metadata": {},
   "outputs": [
    {
     "ename": "IndexError",
     "evalue": "list index out of range",
     "output_type": "error",
     "traceback": [
      "\u001b[1;31m---------------------------------------------------------------------------\u001b[0m",
      "\u001b[1;31mIndexError\u001b[0m                                Traceback (most recent call last)",
      "Input \u001b[1;32mIn [14]\u001b[0m, in \u001b[0;36m<cell line: 1>\u001b[1;34m()\u001b[0m\n\u001b[1;32m----> 1\u001b[0m \u001b[43mload_workbook\u001b[49m\u001b[43m(\u001b[49m\u001b[38;5;124;43m'\u001b[39;49m\u001b[38;5;124;43mplanilhas/Anexo-VI-Formulario-de-Solicitacao-de-Vistoria-de-Microgeracao-Distribuida.xlsx\u001b[39;49m\u001b[38;5;124;43m'\u001b[39;49m\u001b[43m)\u001b[49m\n",
      "File \u001b[1;32m~\\anaconda3\\envs\\qr_energia\\lib\\site-packages\\openpyxl\\reader\\excel.py:317\u001b[0m, in \u001b[0;36mload_workbook\u001b[1;34m(filename, read_only, keep_vba, data_only, keep_links)\u001b[0m\n\u001b[0;32m    290\u001b[0m \u001b[38;5;124;03m\"\"\"Open the given filename and return the workbook\u001b[39;00m\n\u001b[0;32m    291\u001b[0m \n\u001b[0;32m    292\u001b[0m \u001b[38;5;124;03m:param filename: the path to open or a file-like object\u001b[39;00m\n\u001b[1;32m   (...)\u001b[0m\n\u001b[0;32m    313\u001b[0m \n\u001b[0;32m    314\u001b[0m \u001b[38;5;124;03m\"\"\"\u001b[39;00m\n\u001b[0;32m    315\u001b[0m reader \u001b[38;5;241m=\u001b[39m ExcelReader(filename, read_only, keep_vba,\n\u001b[0;32m    316\u001b[0m                     data_only, keep_links)\n\u001b[1;32m--> 317\u001b[0m \u001b[43mreader\u001b[49m\u001b[38;5;241;43m.\u001b[39;49m\u001b[43mread\u001b[49m\u001b[43m(\u001b[49m\u001b[43m)\u001b[49m\n\u001b[0;32m    318\u001b[0m \u001b[38;5;28;01mreturn\u001b[39;00m reader\u001b[38;5;241m.\u001b[39mwb\n",
      "File \u001b[1;32m~\\anaconda3\\envs\\qr_energia\\lib\\site-packages\\openpyxl\\reader\\excel.py:283\u001b[0m, in \u001b[0;36mExcelReader.read\u001b[1;34m(self)\u001b[0m\n\u001b[0;32m    281\u001b[0m apply_stylesheet(\u001b[38;5;28mself\u001b[39m\u001b[38;5;241m.\u001b[39marchive, \u001b[38;5;28mself\u001b[39m\u001b[38;5;241m.\u001b[39mwb)\n\u001b[0;32m    282\u001b[0m \u001b[38;5;28mself\u001b[39m\u001b[38;5;241m.\u001b[39mread_worksheets()\n\u001b[1;32m--> 283\u001b[0m \u001b[38;5;28;43mself\u001b[39;49m\u001b[38;5;241;43m.\u001b[39;49m\u001b[43mparser\u001b[49m\u001b[38;5;241;43m.\u001b[39;49m\u001b[43massign_names\u001b[49m\u001b[43m(\u001b[49m\u001b[43m)\u001b[49m\n\u001b[0;32m    284\u001b[0m \u001b[38;5;28;01mif\u001b[39;00m \u001b[38;5;129;01mnot\u001b[39;00m \u001b[38;5;28mself\u001b[39m\u001b[38;5;241m.\u001b[39mread_only:\n\u001b[0;32m    285\u001b[0m     \u001b[38;5;28mself\u001b[39m\u001b[38;5;241m.\u001b[39marchive\u001b[38;5;241m.\u001b[39mclose()\n",
      "File \u001b[1;32m~\\anaconda3\\envs\\qr_energia\\lib\\site-packages\\openpyxl\\reader\\workbook.py:102\u001b[0m, in \u001b[0;36mWorkbookParser.assign_names\u001b[1;34m(self)\u001b[0m\n\u001b[0;32m    100\u001b[0m reserved \u001b[38;5;241m=\u001b[39m defn\u001b[38;5;241m.\u001b[39mis_reserved\n\u001b[0;32m    101\u001b[0m \u001b[38;5;28;01mif\u001b[39;00m reserved \u001b[38;5;129;01min\u001b[39;00m (\u001b[38;5;124m\"\u001b[39m\u001b[38;5;124mPrint_Titles\u001b[39m\u001b[38;5;124m\"\u001b[39m, \u001b[38;5;124m\"\u001b[39m\u001b[38;5;124mPrint_Area\u001b[39m\u001b[38;5;124m\"\u001b[39m):\n\u001b[1;32m--> 102\u001b[0m     sheet \u001b[38;5;241m=\u001b[39m \u001b[38;5;28;43mself\u001b[39;49m\u001b[38;5;241;43m.\u001b[39;49m\u001b[43mwb\u001b[49m\u001b[38;5;241;43m.\u001b[39;49m\u001b[43m_sheets\u001b[49m\u001b[43m[\u001b[49m\u001b[43mdefn\u001b[49m\u001b[38;5;241;43m.\u001b[39;49m\u001b[43mlocalSheetId\u001b[49m\u001b[43m]\u001b[49m\n\u001b[0;32m    103\u001b[0m     \u001b[38;5;28;01mif\u001b[39;00m reserved \u001b[38;5;241m==\u001b[39m \u001b[38;5;124m\"\u001b[39m\u001b[38;5;124mPrint_Titles\u001b[39m\u001b[38;5;124m\"\u001b[39m:\n\u001b[0;32m    104\u001b[0m         rows, cols \u001b[38;5;241m=\u001b[39m _unpack_print_titles(defn)\n",
      "\u001b[1;31mIndexError\u001b[0m: list index out of range"
     ]
    }
   ],
   "source": [
    "load_workbook('planilhas/Anexo-VI-Formulario-de-Solicitacao-de-Vistoria-de-Microgeracao-Distribuida.xlsx')"
   ]
  },
  {
   "cell_type": "code",
   "execution_count": null,
   "id": "2215addf-389c-45bb-ad20-9f544eef3e90",
   "metadata": {},
   "outputs": [],
   "source": []
  }
 ],
 "metadata": {
  "kernelspec": {
   "display_name": "Python 3 (ipykernel)",
   "language": "python",
   "name": "python3"
  },
  "language_info": {
   "codemirror_mode": {
    "name": "ipython",
    "version": 3
   },
   "file_extension": ".py",
   "mimetype": "text/x-python",
   "name": "python",
   "nbconvert_exporter": "python",
   "pygments_lexer": "ipython3",
   "version": "3.9.13"
  }
 },
 "nbformat": 4,
 "nbformat_minor": 5
}
