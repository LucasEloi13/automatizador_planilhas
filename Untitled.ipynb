{
 "cells": [
  {
   "cell_type": "markdown",
   "id": "31beab6e-0d7c-4de0-a72c-7a2769ad993f",
   "metadata": {
    "tags": []
   },
   "source": [
    "## MOVER ARQUIVOS COM PYTHON"
   ]
  },
  {
   "cell_type": "code",
   "execution_count": 5,
   "id": "f9ac1a09-1745-44bc-880a-00dd9fa1fd0f",
   "metadata": {},
   "outputs": [],
   "source": [
    "import os\n",
    "import shutil"
   ]
  },
  {
   "cell_type": "code",
   "execution_count": 7,
   "id": "86ac4880-51eb-4902-99fd-681c01cb8851",
   "metadata": {},
   "outputs": [],
   "source": [
    "src =  'paineis/CANADIAN/prints/Canadian 450.png'"
   ]
  },
  {
   "cell_type": "code",
   "execution_count": 8,
   "id": "e8e583b3-de84-4413-a2b9-a8522c29bdc1",
   "metadata": {},
   "outputs": [],
   "source": [
    "dst = 'paineis/'"
   ]
  },
  {
   "cell_type": "code",
   "execution_count": 9,
   "id": "2e3c8ab7-0485-45df-a65c-7641e83fe87a",
   "metadata": {},
   "outputs": [
    {
     "data": {
      "text/plain": [
       "'paineis/Canadian 450.png'"
      ]
     },
     "execution_count": 9,
     "metadata": {},
     "output_type": "execute_result"
    }
   ],
   "source": [
    "shutil.copy2 (src, dst)"
   ]
  },
  {
   "cell_type": "code",
   "execution_count": 13,
   "id": "1277962e-7b58-48eb-854a-61fc74a033e7",
   "metadata": {},
   "outputs": [],
   "source": [
    "os.makedirs(\"arquivos do projeto - anisio/aaaa\")"
   ]
  },
  {
   "cell_type": "code",
   "execution_count": 14,
   "id": "577beed2-1ca4-4ef7-818c-7197dc724bb2",
   "metadata": {},
   "outputs": [],
   "source": [
    "os.rename('arquivos do projeto - anisio/ASW5000-S.pdf', 'Datasheet_ASW5000-S.pdf')"
   ]
  },
  {
   "cell_type": "code",
   "execution_count": null,
   "id": "13c830c5-8753-462e-ac6b-2c8edba837eb",
   "metadata": {},
   "outputs": [],
   "source": []
  }
 ],
 "metadata": {
  "kernelspec": {
   "display_name": "Python 3 (ipykernel)",
   "language": "python",
   "name": "python3"
  },
  "language_info": {
   "codemirror_mode": {
    "name": "ipython",
    "version": 3
   },
   "file_extension": ".py",
   "mimetype": "text/x-python",
   "name": "python",
   "nbconvert_exporter": "python",
   "pygments_lexer": "ipython3",
   "version": "3.9.13"
  }
 },
 "nbformat": 4,
 "nbformat_minor": 5
}
