{
 "cells": [
  {
   "cell_type": "code",
   "execution_count": 1,
   "id": "7ee06eea-6565-462c-9f68-3f21d542f2e1",
   "metadata": {},
   "outputs": [],
   "source": [
    "import pandas as pd\n",
    "import numpy as np\n",
    "from openpyxl import load_workbook"
   ]
  },
  {
   "cell_type": "code",
   "execution_count": 2,
   "id": "256cbe37-ecc9-46b0-a821-ad5a2bc95a16",
   "metadata": {},
   "outputs": [],
   "source": [
    "df = pd.DataFrame(pd.read_excel(\"planilhas/tabela_cliente.xlsx\"))\n",
    "df_placas = pd.DataFrame(pd.read_excel(\"planilhas/placas.xlsx\"))\n",
    "df_inversores = pd.DataFrame(pd.read_excel(\"planilhas/inversores.xlsx\"))"
   ]
  },
  {
   "cell_type": "code",
   "execution_count": 5,
   "id": "258d188b-b087-4bda-99a9-765e86c553b0",
   "metadata": {
    "jupyter": {
     "source_hidden": true
    },
    "tags": []
   },
   "outputs": [],
   "source": [
    "cod = 69\n",
    "df = df.astype('object')\n",
    "df_filtrado = df[(df['CÓDIGO']==cod)]\n",
    "\n",
    "dict1 = df_filtrado.to_dict(orient='index')\n",
    "\n",
    "for i in dict1:\n",
    "    a = i\n",
    "\n",
    "dict1 = dict1.get(i)\n",
    "\n",
    "\n",
    "for key in dict1:\n",
    "        if isinstance(dict1[key], str) == False:\n",
    "            dict1[key] = str(dict1[key])\n",
    "            \n",
    "            \n",
    "dict1['CÓDIGO'] = int(dict1['CÓDIGO'])"
   ]
  },
  {
   "cell_type": "code",
   "execution_count": 6,
   "id": "5f42d397-8de9-4035-a8cb-ab15e9def938",
   "metadata": {},
   "outputs": [
    {
     "data": {
      "text/plain": [
       "{'CÓDIGO': 69,\n",
       " 'NOME': 'ANISIO BERNARDO ALMEIDA NETO',\n",
       " 'CPF': '7490054320',\n",
       " 'RG': '266272920039',\n",
       " 'CONTA CONTRATO': '3016955360',\n",
       " 'ENDEREÇO': 'R. Quatro, 22, Cohatrac IV',\n",
       " 'CEP': '65054630',\n",
       " 'MUNICÍPIO': 'SÃO LUÍS',\n",
       " 'UF': 'MA',\n",
       " 'RAMO DE ATIVIDADE': 'RESIDENCIAL',\n",
       " 'CLASSE': 'RESIDENCIAL',\n",
       " 'TIPO DE LIGAÇÃO': 'MONOFÁSICO',\n",
       " 'DISJUNTOR DE ENTRADA': '63',\n",
       " 'TIPO DE RAMAL': 'AÉREO',\n",
       " 'ENQUADRAMENTO': 'AUTOCONSUMO REMOTO',\n",
       " 'X': '-2.536256',\n",
       " 'Y': '-44.210288',\n",
       " 'PAINEL': 'LEAPTON MONO 550',\n",
       " 'INVERSOR': 'ASW5000-S'}"
      ]
     },
     "execution_count": 6,
     "metadata": {},
     "output_type": "execute_result"
    }
   ],
   "source": [
    "dict1"
   ]
  },
  {
   "cell_type": "code",
   "execution_count": 8,
   "id": "ba49bdfe-314d-431e-b737-da84d6152992",
   "metadata": {},
   "outputs": [
    {
     "data": {
      "text/html": [
       "<div>\n",
       "<style scoped>\n",
       "    .dataframe tbody tr th:only-of-type {\n",
       "        vertical-align: middle;\n",
       "    }\n",
       "\n",
       "    .dataframe tbody tr th {\n",
       "        vertical-align: top;\n",
       "    }\n",
       "\n",
       "    .dataframe thead th {\n",
       "        text-align: right;\n",
       "    }\n",
       "</style>\n",
       "<table border=\"1\" class=\"dataframe\">\n",
       "  <thead>\n",
       "    <tr style=\"text-align: right;\">\n",
       "      <th></th>\n",
       "      <th>NOME REF</th>\n",
       "      <th>FABRICANTE</th>\n",
       "      <th>MODELO</th>\n",
       "      <th>POTÊNCIA (W)</th>\n",
       "    </tr>\n",
       "  </thead>\n",
       "  <tbody>\n",
       "    <tr>\n",
       "      <th>0</th>\n",
       "      <td>LEAPTON MONO 550</td>\n",
       "      <td>LEAPTON</td>\n",
       "      <td>LP182*182-M-72-MH</td>\n",
       "      <td>550</td>\n",
       "    </tr>\n",
       "  </tbody>\n",
       "</table>\n",
       "</div>"
      ],
      "text/plain": [
       "           NOME REF FABRICANTE             MODELO  POTÊNCIA (W)\n",
       "0  LEAPTON MONO 550    LEAPTON  LP182*182-M-72-MH           550"
      ]
     },
     "execution_count": 8,
     "metadata": {},
     "output_type": "execute_result"
    }
   ],
   "source": [
    "df_placas[df_placas['NOME REF']== dict1.get('PAINEL')]"
   ]
  },
  {
   "cell_type": "code",
   "execution_count": 7,
   "id": "8057044b-0614-42b4-9b87-005486a0832b",
   "metadata": {},
   "outputs": [
    {
     "data": {
      "text/html": [
       "<div>\n",
       "<style scoped>\n",
       "    .dataframe tbody tr th:only-of-type {\n",
       "        vertical-align: middle;\n",
       "    }\n",
       "\n",
       "    .dataframe tbody tr th {\n",
       "        vertical-align: top;\n",
       "    }\n",
       "\n",
       "    .dataframe thead th {\n",
       "        text-align: right;\n",
       "    }\n",
       "</style>\n",
       "<table border=\"1\" class=\"dataframe\">\n",
       "  <thead>\n",
       "    <tr style=\"text-align: right;\">\n",
       "      <th></th>\n",
       "      <th>NOME REF</th>\n",
       "      <th>FABRICANTE</th>\n",
       "      <th>MODELO</th>\n",
       "      <th>POTÊNCIA (W)</th>\n",
       "    </tr>\n",
       "  </thead>\n",
       "  <tbody>\n",
       "    <tr>\n",
       "      <th>0</th>\n",
       "      <td>LEAPTON MONO 550</td>\n",
       "      <td>LEAPTON</td>\n",
       "      <td>LP182*182-M-72-MH</td>\n",
       "      <td>550</td>\n",
       "    </tr>\n",
       "  </tbody>\n",
       "</table>\n",
       "</div>"
      ],
      "text/plain": [
       "           NOME REF FABRICANTE             MODELO  POTÊNCIA (W)\n",
       "0  LEAPTON MONO 550    LEAPTON  LP182*182-M-72-MH           550"
      ]
     },
     "execution_count": 7,
     "metadata": {},
     "output_type": "execute_result"
    }
   ],
   "source": [
    "df_placas.head()"
   ]
  },
  {
   "cell_type": "code",
   "execution_count": null,
   "id": "7e3f03a1-059d-4e72-99a1-bb6d051e3a90",
   "metadata": {},
   "outputs": [],
   "source": []
  }
 ],
 "metadata": {
  "kernelspec": {
   "display_name": "Python 3 (ipykernel)",
   "language": "python",
   "name": "python3"
  },
  "language_info": {
   "codemirror_mode": {
    "name": "ipython",
    "version": 3
   },
   "file_extension": ".py",
   "mimetype": "text/x-python",
   "name": "python",
   "nbconvert_exporter": "python",
   "pygments_lexer": "ipython3",
   "version": "3.9.13"
  }
 },
 "nbformat": 4,
 "nbformat_minor": 5
}
