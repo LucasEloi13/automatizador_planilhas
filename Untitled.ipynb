{
 "cells": [
  {
   "cell_type": "code",
   "execution_count": 1,
   "id": "7ee06eea-6565-462c-9f68-3f21d542f2e1",
   "metadata": {},
   "outputs": [],
   "source": [
    "import pandas as pd\n",
    "import numpy as np\n",
    "from openpyxl import load_workbook"
   ]
  },
  {
   "cell_type": "code",
   "execution_count": 15,
   "id": "256cbe37-ecc9-46b0-a821-ad5a2bc95a16",
   "metadata": {
    "tags": []
   },
   "outputs": [],
   "source": [
    "df = pd.DataFrame(pd.read_excel(\"planilhas/tabela_cliente.xlsx\"))\n",
    "df_placas = pd.DataFrame(pd.read_excel(\"planilhas/placas.xlsx\"))\n",
    "df_inversores = pd.DataFrame(pd.read_excel(\"planilhas/inversores.xlsx\"))"
   ]
  },
  {
   "cell_type": "code",
   "execution_count": 16,
   "id": "258d188b-b087-4bda-99a9-765e86c553b0",
   "metadata": {
    "jupyter": {
     "source_hidden": true
    },
    "tags": []
   },
   "outputs": [],
   "source": [
    "cod = 69\n",
    "df = df.astype('object')\n",
    "df_filtrado = df[(df['CÓDIGO']==cod)]\n",
    "\n",
    "dict1 = df_filtrado.to_dict(orient='index')\n",
    "\n",
    "for i in dict1:\n",
    "    a = i\n",
    "\n",
    "dict1 = dict1.get(i)\n",
    "\n",
    "\n",
    "for key in dict1:\n",
    "        if isinstance(dict1[key], str) == False:\n",
    "            dict1[key] = str(dict1[key])\n",
    "            \n",
    "            \n",
    "dict1['CÓDIGO'] = int(dict1['CÓDIGO'])"
   ]
  },
  {
   "cell_type": "code",
   "execution_count": 17,
   "id": "45b9f182-0ce6-427a-9f16-da0aaa55b0c8",
   "metadata": {},
   "outputs": [
    {
     "data": {
      "text/html": [
       "<div>\n",
       "<style scoped>\n",
       "    .dataframe tbody tr th:only-of-type {\n",
       "        vertical-align: middle;\n",
       "    }\n",
       "\n",
       "    .dataframe tbody tr th {\n",
       "        vertical-align: top;\n",
       "    }\n",
       "\n",
       "    .dataframe thead th {\n",
       "        text-align: right;\n",
       "    }\n",
       "</style>\n",
       "<table border=\"1\" class=\"dataframe\">\n",
       "  <thead>\n",
       "    <tr style=\"text-align: right;\">\n",
       "      <th></th>\n",
       "      <th>NOME REF</th>\n",
       "      <th>FABRICANTE</th>\n",
       "      <th>MODELO</th>\n",
       "      <th>POTÊNCIA (W)</th>\n",
       "    </tr>\n",
       "  </thead>\n",
       "  <tbody>\n",
       "    <tr>\n",
       "      <th>0</th>\n",
       "      <td>Leapton Mono 550</td>\n",
       "      <td>LEAPTON</td>\n",
       "      <td>LP182*182-M-72-MH</td>\n",
       "      <td>550</td>\n",
       "    </tr>\n",
       "    <tr>\n",
       "      <th>1</th>\n",
       "      <td>Sunova 505</td>\n",
       "      <td>SUNOVA</td>\n",
       "      <td>SS-505-66MTF</td>\n",
       "      <td>505</td>\n",
       "    </tr>\n",
       "    <tr>\n",
       "      <th>2</th>\n",
       "      <td>Canadian 450</td>\n",
       "      <td>CANADIAN</td>\n",
       "      <td>CS3W 450MS</td>\n",
       "      <td>450</td>\n",
       "    </tr>\n",
       "    <tr>\n",
       "      <th>3</th>\n",
       "      <td>Longi 435</td>\n",
       "      <td>LONGI</td>\n",
       "      <td>LR4-72HPH</td>\n",
       "      <td>435</td>\n",
       "    </tr>\n",
       "    <tr>\n",
       "      <th>4</th>\n",
       "      <td>Longi 440</td>\n",
       "      <td>LONGI</td>\n",
       "      <td>LR4-72HPH</td>\n",
       "      <td>440</td>\n",
       "    </tr>\n",
       "  </tbody>\n",
       "</table>\n",
       "</div>"
      ],
      "text/plain": [
       "           NOME REF FABRICANTE             MODELO  POTÊNCIA (W)\n",
       "0  Leapton Mono 550    LEAPTON  LP182*182-M-72-MH           550\n",
       "1        Sunova 505     SUNOVA       SS-505-66MTF           505\n",
       "2      Canadian 450   CANADIAN         CS3W 450MS           450\n",
       "3        Longi 435       LONGI          LR4-72HPH           435\n",
       "4         Longi 440      LONGI          LR4-72HPH           440"
      ]
     },
     "execution_count": 17,
     "metadata": {},
     "output_type": "execute_result"
    }
   ],
   "source": [
    "df_placas.head()"
   ]
  },
  {
   "cell_type": "code",
   "execution_count": 24,
   "id": "761eb3c5-19d4-45ed-802e-2eb19a66bd46",
   "metadata": {},
   "outputs": [
    {
     "data": {
      "text/html": [
       "<div>\n",
       "<style scoped>\n",
       "    .dataframe tbody tr th:only-of-type {\n",
       "        vertical-align: middle;\n",
       "    }\n",
       "\n",
       "    .dataframe tbody tr th {\n",
       "        vertical-align: top;\n",
       "    }\n",
       "\n",
       "    .dataframe thead th {\n",
       "        text-align: right;\n",
       "    }\n",
       "</style>\n",
       "<table border=\"1\" class=\"dataframe\">\n",
       "  <thead>\n",
       "    <tr style=\"text-align: right;\">\n",
       "      <th></th>\n",
       "      <th>NOME REF</th>\n",
       "      <th>FABRICANTE</th>\n",
       "      <th>MODELO</th>\n",
       "      <th>POTÊNCIA (W)</th>\n",
       "    </tr>\n",
       "  </thead>\n",
       "  <tbody>\n",
       "    <tr>\n",
       "      <th>0</th>\n",
       "      <td>Leapton Mono 550</td>\n",
       "      <td>LEAPTON</td>\n",
       "      <td>LP182*182-M-72-MH</td>\n",
       "      <td>550</td>\n",
       "    </tr>\n",
       "  </tbody>\n",
       "</table>\n",
       "</div>"
      ],
      "text/plain": [
       "           NOME REF FABRICANTE             MODELO  POTÊNCIA (W)\n",
       "0  Leapton Mono 550    LEAPTON  LP182*182-M-72-MH           550"
      ]
     },
     "execution_count": 24,
     "metadata": {},
     "output_type": "execute_result"
    }
   ],
   "source": [
    "df_placas[df_placas['NOME REF'] == 'Leapton Mono 550']"
   ]
  },
  {
   "cell_type": "code",
   "execution_count": 21,
   "id": "5f42d397-8de9-4035-a8cb-ab15e9def938",
   "metadata": {
    "tags": []
   },
   "outputs": [],
   "source": [
    "dict2 = df_placas.to_dict(orient='index')\n",
    "for i in dict2:\n",
    "    a = i\n",
    "\n",
    "dict2 = dict2.get(i)\n",
    "    "
   ]
  },
  {
   "cell_type": "code",
   "execution_count": 22,
   "id": "93ab4165-ffc7-4768-b0fd-2762ee06b7b9",
   "metadata": {},
   "outputs": [
    {
     "data": {
      "text/plain": [
       "{'NOME REF': 'Jinko 335 Poli',\n",
       " 'FABRICANTE': 'JINKO',\n",
       " 'MODELO': 'JKM335PP-72H-V ',\n",
       " 'POTÊNCIA (W)': 335}"
      ]
     },
     "execution_count": 22,
     "metadata": {},
     "output_type": "execute_result"
    }
   ],
   "source": [
    "dict2"
   ]
  },
  {
   "cell_type": "code",
   "execution_count": null,
   "id": "8f41dd8c-0612-457a-95a9-f3e80913c2e7",
   "metadata": {},
   "outputs": [],
   "source": []
  }
 ],
 "metadata": {
  "kernelspec": {
   "display_name": "Python 3 (ipykernel)",
   "language": "python",
   "name": "python3"
  },
  "language_info": {
   "codemirror_mode": {
    "name": "ipython",
    "version": 3
   },
   "file_extension": ".py",
   "mimetype": "text/x-python",
   "name": "python",
   "nbconvert_exporter": "python",
   "pygments_lexer": "ipython3",
   "version": "3.9.13"
  }
 },
 "nbformat": 4,
 "nbformat_minor": 5
}
